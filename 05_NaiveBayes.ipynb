{
 "cells": [
  {
   "cell_type": "code",
   "execution_count": 1,
   "metadata": {
    "ExecuteTime": {
     "end_time": "2018-08-17T00:55:53.808389Z",
     "start_time": "2018-08-17T00:55:53.604783Z"
    },
    "collapsed": true
   },
   "outputs": [],
   "source": [
    "# -*- coding: UTF-8 -*-\n",
    "import sys\n",
    "from time import time\n",
    "import pandas as pd\n",
    "import numpy as np\n",
    "\n",
    "import matplotlib.pyplot as plt\n",
    "\n",
    "from pyspark import SparkConf, SparkContext\n",
    "from pyspark.mllib.classification import NaiveBayes\n",
    "from pyspark.mllib.regression import LabeledPoint\n",
    "from pyspark.mllib.feature import StandardScaler\n",
    "from pyspark.mllib.evaluation import BinaryClassificationMetrics\n",
    "\n"
   ]
  },
  {
   "cell_type": "markdown",
   "metadata": {},
   "source": [
    "# 初始化SC与logger"
   ]
  },
  {
   "cell_type": "code",
   "execution_count": 2,
   "metadata": {
    "collapsed": false
   },
   "outputs": [
    {
     "data": {
      "text/plain": [
       "'local[*]'"
      ]
     },
     "execution_count": 2,
     "metadata": {},
     "output_type": "execute_result"
    }
   ],
   "source": [
    "sparkConf = SparkConf().setAppName(\"NaiveBayes_Test\")\n",
    "sc = SparkContext(conf = sparkConf)\n",
    "sc.master"
   ]
  },
  {
   "cell_type": "code",
   "execution_count": 3,
   "metadata": {
    "collapsed": true
   },
   "outputs": [],
   "source": [
    "logger = sc._jvm.org.apache.log4j\n",
    "logger.LogManager.getLogger(\"org\"). setLevel( logger.Level.ERROR )\n",
    "logger.LogManager.getLogger(\"akka\").setLevel( logger.Level.ERROR )\n",
    "logger.LogManager.getRootLogger().setLevel(logger.Level.ERROR)"
   ]
  },
  {
   "cell_type": "markdown",
   "metadata": {},
   "source": [
    "# 导入文件"
   ]
  },
  {
   "cell_type": "code",
   "execution_count": 4,
   "metadata": {
    "collapsed": false
   },
   "outputs": [
    {
     "data": {
      "text/plain": [
       "file:///mnt/f/AI/Book/other/spark_tmp/PythonProject/data/train.tsv MapPartitionsRDD[1] at textFile at NativeMethodAccessorImpl.java:0"
      ]
     },
     "execution_count": 4,
     "metadata": {},
     "output_type": "execute_result"
    }
   ],
   "source": [
    "path = 'file:///mnt/f/AI/Book/other/spark_tmp/PythonProject/'\n",
    "data = sc.textFile(path+'data/train.tsv')\n",
    "data.cache()"
   ]
  },
  {
   "cell_type": "markdown",
   "metadata": {},
   "source": [
    "user id \\t movie id \\t rating \\t time"
   ]
  },
  {
   "cell_type": "markdown",
   "metadata": {},
   "source": [
    "# 处理数据"
   ]
  },
  {
   "cell_type": "code",
   "execution_count": 5,
   "metadata": {
    "collapsed": false
   },
   "outputs": [
    {
     "data": {
      "text/plain": [
       "['alchemy_category',\n",
       " 'alchemy_category_score',\n",
       " 'avglinksize',\n",
       " 'commonlinkratio_1',\n",
       " 'commonlinkratio_2',\n",
       " 'commonlinkratio_3',\n",
       " 'commonlinkratio_4',\n",
       " 'compression_ratio',\n",
       " 'embed_ratio',\n",
       " 'framebased',\n",
       " 'frameTagRatio',\n",
       " 'hasDomainLink',\n",
       " 'html_ratio',\n",
       " 'image_ratio',\n",
       " 'is_news',\n",
       " 'lengthyLinkDomain',\n",
       " 'linkwordscore',\n",
       " 'news_front_page',\n",
       " 'non_markup_alphanum_characters',\n",
       " 'numberOfLinks',\n",
       " 'numwords_in_url',\n",
       " 'parametrizedLinkRatio',\n",
       " 'spelling_errors_ratio',\n",
       " 'label']"
      ]
     },
     "execution_count": 5,
     "metadata": {},
     "output_type": "execute_result"
    }
   ],
   "source": [
    "# 生成特征名\n",
    "header = data.first()\n",
    "header = header.replace('\"','').split('\\t')[3:]\n",
    "header"
   ]
  },
  {
   "cell_type": "code",
   "execution_count": 6,
   "metadata": {
    "collapsed": false
   },
   "outputs": [
    {
     "data": {
      "text/plain": [
       "'\"http://www.bloomberg.com/news/2010-12-23/ibm-predicts-holographic-calls-air-breathing-batteries-by-2015.html\"\\t\"4042\"\\t\"{\"\"title\"\":\"\"IBM Sees Holographic Calls Air Breathing Batteries ibm sees holographic calls, air-breathing batteries\"\",\"\"body\"\":\"\"A sign stands outside the International Business Machines Corp IBM Almaden Research Center campus in San Jose California Photographer Tony Avelar Bloomberg Buildings stand at the International Business Machines Corp IBM Almaden Research Center campus in the Santa Teresa Hills of San Jose California Photographer Tony Avelar Bloomberg By 2015 your mobile phone will project a 3 D image of anyone who calls and your laptop will be powered by kinetic energy At least that s what International Business Machines Corp sees in its crystal ball The predictions are part of an annual tradition for the Armonk New York based company which surveys its 3 000 researchers to find five ideas expected to take root in the next five years IBM the world s largest provider of computer services looks to Silicon Valley for input gleaning many ideas from its Almaden research center in San Jose California Holographic conversations projected from mobile phones lead this year s list The predictions also include air breathing batteries computer programs that can tell when and where traffic jams will take place environmental information generated by sensors in cars and phones and cities powered by the heat thrown off by computer servers These are all stretch goals and that s good said Paul Saffo managing director of foresight at the investment advisory firm Discern in San Francisco In an era when pessimism is the new black a little dose of technological optimism is not a bad thing For IBM it s not just idle speculation The company is one of the few big corporations investing in long range research projects and it counts on innovation to fuel growth Saffo said Not all of its predictions pan out though IBM was overly optimistic about the spread of speech technology for instance When the ideas do lead to products they can have broad implications for society as well as IBM s bottom line he said Research Spending They have continued to do research when all the other grand research organizations are gone said Saffo who is also a consulting associate professor at Stanford University IBM invested 5 8 billion in research and development last year 6 1 percent of revenue While that s down from about 10 percent in the early 1990s the company spends a bigger share on research than its computing rivals Hewlett Packard Co the top maker of personal computers spent 2 4 percent last year At Almaden scientists work on projects that don t always fit in with IBM s computer business The lab s research includes efforts to develop an electric car battery that runs 500 miles on one charge a filtration system for desalination and a program that shows changes in geographic data IBM rose 9 cents to 146 04 at 11 02 a m in New York Stock Exchange composite trading The stock had gained 11 percent this year before today Citizen Science The list is meant to give a window into the company s innovation engine said Josephine Cheng a vice president at IBM s Almaden lab All this demonstrates a real culture of innovation at IBM and willingness to devote itself to solving some of the world s biggest problems she said Many of the predictions are based on projects that IBM has in the works One of this year s ideas that sensors in cars wallets and personal devices will give scientists better data about the environment is an expansion of the company s citizen science initiative Earlier this year IBM teamed up with the California State Water Resources Control Board and the City of San Jose Environmental Services to help gather information about waterways Researchers from Almaden created an application that lets smartphone users snap photos of streams and creeks and report back on conditions The hope is that these casual observations will help local and state officials who don t have the resources to do the work themselves Traffic Predictors IBM also sees data helping shorten commutes in the next five years Computer programs will use algorithms and real time traffic information to predict which roads will have backups and how to avoid getting stuck Batteries may last 10 times longer in 2015 than today IBM says Rather than using the current lithium ion technology new models could rely on energy dense metals that only need to interact with the air to recharge Some electronic devices might ditch batteries altogether and use something similar to kinetic wristwatches which only need to be shaken to generate a charge The final prediction involves recycling the heat generated by computers and data centers Almost half of the power used by data centers is currently spent keeping the computers cool IBM scientists say it would be better to harness that heat to warm houses and offices In IBM s first list of predictions compiled at the end of 2006 researchers said instantaneous speech translation would become the norm That hasn t happened yet While some programs can quickly translate electronic documents and instant messages and other apps can perform limited speech translation there s nothing widely available that acts like the universal translator in Star Trek Second Life The company also predicted that online immersive environments such as Second Life would become more widespread While immersive video games are as popular as ever Second Life s growth has slowed Internet users are flocking instead to the more 2 D environments of Facebook Inc and Twitter Inc Meanwhile a 2007 prediction that mobile phones will act as a wallet ticket broker concierge bank and shopping assistant is coming true thanks to the explosion of smartphone applications Consumers can pay bills through their banking apps buy movie tickets and get instant feedback on potential purchases all with a few taps on their phones The nice thing about the list is that it provokes thought Saffo said If everything came true they wouldn t be doing their job To contact the reporter on this story Ryan Flinn in San Francisco at rflinn bloomberg net To contact the editor responsible for this story Tom Giles at tgiles5 bloomberg net by 2015, your mobile phone will project a 3-d image of anyone who calls and your laptop will be powered by kinetic energy. at least that\\\\u2019s what international business machines corp. sees in its crystal ball.\"\",\"\"url\"\":\"\"bloomberg news 2010 12 23 ibm predicts holographic calls air breathing batteries by 2015 html\"\"}\"\\t\"business\"\\t\"0.789131\"\\t\"2.055555556\"\\t\"0.676470588\"\\t\"0.205882353\"\\t\"0.047058824\"\\t\"0.023529412\"\\t\"0.443783175\"\\t\"0\"\\t\"0\"\\t\"0.09077381\"\\t\"0\"\\t\"0.245831182\"\\t\"0.003883495\"\\t\"1\"\\t\"1\"\\t\"24\"\\t\"0\"\\t\"5424\"\\t\"170\"\\t\"8\"\\t\"0.152941176\"\\t\"0.079129575\"\\t\"0\"'"
      ]
     },
     "execution_count": 6,
     "metadata": {},
     "output_type": "execute_result"
    }
   ],
   "source": [
    "# 去掉第一行的特征名\n",
    "line_first = data.first()\n",
    "rowdata = data.filter(lambda x:x!=line_first)\n",
    "rowdata.first()"
   ]
  },
  {
   "cell_type": "code",
   "execution_count": 7,
   "metadata": {
    "collapsed": false
   },
   "outputs": [
    {
     "data": {
      "text/plain": [
       "'http://www.bloomberg.com/news/2010-12-23/ibm-predicts-holographic-calls-air-breathing-batteries-by-2015.html\\t4042\\t{title:IBM Sees Holographic Calls Air Breathing Batteries ibm sees holographic calls, air-breathing batteries,body:A sign stands outside the International Business Machines Corp IBM Almaden Research Center campus in San Jose California Photographer Tony Avelar Bloomberg Buildings stand at the International Business Machines Corp IBM Almaden Research Center campus in the Santa Teresa Hills of San Jose California Photographer Tony Avelar Bloomberg By 2015 your mobile phone will project a 3 D image of anyone who calls and your laptop will be powered by kinetic energy At least that s what International Business Machines Corp sees in its crystal ball The predictions are part of an annual tradition for the Armonk New York based company which surveys its 3 000 researchers to find five ideas expected to take root in the next five years IBM the world s largest provider of computer services looks to Silicon Valley for input gleaning many ideas from its Almaden research center in San Jose California Holographic conversations projected from mobile phones lead this year s list The predictions also include air breathing batteries computer programs that can tell when and where traffic jams will take place environmental information generated by sensors in cars and phones and cities powered by the heat thrown off by computer servers These are all stretch goals and that s good said Paul Saffo managing director of foresight at the investment advisory firm Discern in San Francisco In an era when pessimism is the new black a little dose of technological optimism is not a bad thing For IBM it s not just idle speculation The company is one of the few big corporations investing in long range research projects and it counts on innovation to fuel growth Saffo said Not all of its predictions pan out though IBM was overly optimistic about the spread of speech technology for instance When the ideas do lead to products they can have broad implications for society as well as IBM s bottom line he said Research Spending They have continued to do research when all the other grand research organizations are gone said Saffo who is also a consulting associate professor at Stanford University IBM invested 5 8 billion in research and development last year 6 1 percent of revenue While that s down from about 10 percent in the early 1990s the company spends a bigger share on research than its computing rivals Hewlett Packard Co the top maker of personal computers spent 2 4 percent last year At Almaden scientists work on projects that don t always fit in with IBM s computer business The lab s research includes efforts to develop an electric car battery that runs 500 miles on one charge a filtration system for desalination and a program that shows changes in geographic data IBM rose 9 cents to 146 04 at 11 02 a m in New York Stock Exchange composite trading The stock had gained 11 percent this year before today Citizen Science The list is meant to give a window into the company s innovation engine said Josephine Cheng a vice president at IBM s Almaden lab All this demonstrates a real culture of innovation at IBM and willingness to devote itself to solving some of the world s biggest problems she said Many of the predictions are based on projects that IBM has in the works One of this year s ideas that sensors in cars wallets and personal devices will give scientists better data about the environment is an expansion of the company s citizen science initiative Earlier this year IBM teamed up with the California State Water Resources Control Board and the City of San Jose Environmental Services to help gather information about waterways Researchers from Almaden created an application that lets smartphone users snap photos of streams and creeks and report back on conditions The hope is that these casual observations will help local and state officials who don t have the resources to do the work themselves Traffic Predictors IBM also sees data helping shorten commutes in the next five years Computer programs will use algorithms and real time traffic information to predict which roads will have backups and how to avoid getting stuck Batteries may last 10 times longer in 2015 than today IBM says Rather than using the current lithium ion technology new models could rely on energy dense metals that only need to interact with the air to recharge Some electronic devices might ditch batteries altogether and use something similar to kinetic wristwatches which only need to be shaken to generate a charge The final prediction involves recycling the heat generated by computers and data centers Almost half of the power used by data centers is currently spent keeping the computers cool IBM scientists say it would be better to harness that heat to warm houses and offices In IBM s first list of predictions compiled at the end of 2006 researchers said instantaneous speech translation would become the norm That hasn t happened yet While some programs can quickly translate electronic documents and instant messages and other apps can perform limited speech translation there s nothing widely available that acts like the universal translator in Star Trek Second Life The company also predicted that online immersive environments such as Second Life would become more widespread While immersive video games are as popular as ever Second Life s growth has slowed Internet users are flocking instead to the more 2 D environments of Facebook Inc and Twitter Inc Meanwhile a 2007 prediction that mobile phones will act as a wallet ticket broker concierge bank and shopping assistant is coming true thanks to the explosion of smartphone applications Consumers can pay bills through their banking apps buy movie tickets and get instant feedback on potential purchases all with a few taps on their phones The nice thing about the list is that it provokes thought Saffo said If everything came true they wouldn t be doing their job To contact the reporter on this story Ryan Flinn in San Francisco at rflinn bloomberg net To contact the editor responsible for this story Tom Giles at tgiles5 bloomberg net by 2015, your mobile phone will project a 3-d image of anyone who calls and your laptop will be powered by kinetic energy. at least that\\\\u2019s what international business machines corp. sees in its crystal ball.,url:bloomberg news 2010 12 23 ibm predicts holographic calls air breathing batteries by 2015 html}\\tbusiness\\t0.789131\\t2.055555556\\t0.676470588\\t0.205882353\\t0.047058824\\t0.023529412\\t0.443783175\\t0\\t0\\t0.09077381\\t0\\t0.245831182\\t0.003883495\\t1\\t1\\t24\\t0\\t5424\\t170\\t8\\t0.152941176\\t0.079129575\\t0'"
      ]
     },
     "execution_count": 7,
     "metadata": {},
     "output_type": "execute_result"
    }
   ],
   "source": [
    "# 去年数据中的 \" 符号\n",
    "data_train = rowdata.map(lambda x:x.replace('\"','')\n",
    "                        )#.map(lambda x:x.replace('?','0'))\n",
    "data_train.first()"
   ]
  },
  {
   "cell_type": "code",
   "execution_count": 8,
   "metadata": {
    "collapsed": false
   },
   "outputs": [
    {
     "data": {
      "text/plain": [
       "array(['business', '0.789131', '2.055555556', '0.676470588', '0.205882353',\n",
       "       '0.047058824', '0.023529412', '0.443783175', '0', '0', '0.09077381',\n",
       "       '0', '0.245831182', '0.003883495', '1', '1', '24', '0', '5424',\n",
       "       '170', '8', '0.152941176', '0.079129575', '0'], \n",
       "      dtype='<U11')"
      ]
     },
     "execution_count": 8,
     "metadata": {},
     "output_type": "execute_result"
    }
   ],
   "source": [
    "# 以'\\t'分隔, 并舍弃前3列, 转为np.array\n",
    "data_train = data_train.map(lambda x:x.split('\\t')[3:]\n",
    "                           ).map(lambda x:np.array(x))\n",
    "data_train.first()"
   ]
  },
  {
   "cell_type": "code",
   "execution_count": 9,
   "metadata": {
    "collapsed": false
   },
   "outputs": [
    {
     "data": {
      "text/plain": [
       "7395"
      ]
     },
     "execution_count": 9,
     "metadata": {},
     "output_type": "execute_result"
    }
   ],
   "source": [
    "# 查看数据量\n",
    "data_train.count()"
   ]
  },
  {
   "cell_type": "code",
   "execution_count": 10,
   "metadata": {
    "collapsed": false
   },
   "outputs": [
    {
     "data": {
      "text/plain": [
       "0"
      ]
     },
     "execution_count": 10,
     "metadata": {},
     "output_type": "execute_result"
    }
   ],
   "source": [
    "# 生成 lables数据, 生成 LabeledPoint时使用\n",
    "labels = data_train.map(lambda x:int(x[-1]))\n",
    "labels.first()"
   ]
  },
  {
   "cell_type": "code",
   "execution_count": 11,
   "metadata": {
    "collapsed": false
   },
   "outputs": [
    {
     "name": "stdout",
     "output_type": "stream",
     "text": [
      "特征: 0--alchemy_category \t 有[14]个取值\n",
      "特征: ---alchemy_category \t 有 ? ---------\n",
      "特征: 1--alchemy_category_score \t 有[4806]个取值\n",
      "特征: ---alchemy_category_score \t 有 ? ---------\n",
      "特征: 2--avglinksize \t 有[5710]个取值\n",
      "特征: 3--commonlinkratio_1 \t 有[4476]个取值\n",
      "特征: 4--commonlinkratio_2 \t 有[4038]个取值\n",
      "特征: 5--commonlinkratio_3 \t 有[3266]个取值\n",
      "特征: 6--commonlinkratio_4 \t 有[2695]个取值\n",
      "特征: 7--compression_ratio \t 有[6453]个取值\n",
      "特征: 8--embed_ratio \t 有[366]个取值\n",
      "特征: 9--framebased \t 有[1]个取值\n",
      "特征: 10--frameTagRatio \t 有[5911]个取值\n",
      "特征: 11--hasDomainLink \t 有[2]个取值\n",
      "特征: 12--html_ratio \t 有[7376]个取值\n",
      "特征: 13--image_ratio \t 有[5418]个取值\n",
      "特征: 14--is_news \t 有[2]个取值\n",
      "特征: ---is_news \t 有 ? ---------\n",
      "特征: 15--lengthyLinkDomain \t 有[2]个取值\n",
      "特征: 16--linkwordscore \t 有[101]个取值\n",
      "特征: 17--news_front_page \t 有[3]个取值\n",
      "特征: ---news_front_page \t 有 ? ---------\n",
      "特征: 18--non_markup_alphanum_characters \t 有[5301]个取值\n",
      "特征: 19--numberOfLinks \t 有[702]个取值\n",
      "特征: 20--numwords_in_url \t 有[23]个取值\n",
      "特征: 21--parametrizedLinkRatio \t 有[3922]个取值\n",
      "特征: 22--spelling_errors_ratio \t 有[4219]个取值\n",
      "特征: 23--label \t 有[2]个取值\n"
     ]
    }
   ],
   "source": [
    "# 查看数据有多少不同的特征值, 是否含有未知值\n",
    "t_size = len(data_train.first())\n",
    "for i in range(t_size):\n",
    "    line_dis = set(data_train.map(lambda x:x[i]).distinct().collect())\n",
    "    print('特征: {2}--{0} \\t 有[{1}]个取值'.format(header[i],len(line_dis),i))\n",
    "    if '?' in line_dis:\n",
    "        print('特征: ---{0} \\t 有 ? ---------'.format(header[i]))"
   ]
  },
  {
   "cell_type": "code",
   "execution_count": 40,
   "metadata": {
    "collapsed": true
   },
   "outputs": [],
   "source": [
    "# 去掉未知值'?'后查看最值\n",
    "def min_max(_id):\n",
    "    line_dis = set(data_train.map(lambda x:x[_id]).distinct().collect())\n",
    "    if '?' in line_dis:\n",
    "        line_dis.remove('?')\n",
    "        \n",
    "    data_tmp = np.array(list(line_dis)).astype(float)\n",
    "    print('min =', data_tmp.min(), end='\\t')\n",
    "    print('max =', data_tmp.max())"
   ]
  },
  {
   "cell_type": "code",
   "execution_count": 41,
   "metadata": {
    "collapsed": false
   },
   "outputs": [
    {
     "name": "stdout",
     "output_type": "stream",
     "text": [
      "特征: 1--alchemy_category_score\n",
      "min = 0.0708333\tmax = 0.999426\n",
      "特征: 2--avglinksize\n",
      "min = 0.0\tmax = 363.0\n",
      "特征: 3--commonlinkratio_1\n",
      "min = 0.0\tmax = 1.0\n",
      "特征: 4--commonlinkratio_2\n",
      "min = 0.0\tmax = 1.0\n",
      "特征: 5--commonlinkratio_3\n",
      "min = 0.0\tmax = 0.980392157\n",
      "特征: 6--commonlinkratio_4\n",
      "min = 0.0\tmax = 0.980392157\n",
      "特征: 7--compression_ratio\n",
      "min = 0.0\tmax = 21.0\n",
      "特征: 8--embed_ratio\n",
      "min = -1.0\tmax = 0.25\n",
      "特征: 9--framebased\n",
      "min = 0.0\tmax = 0.0\n",
      "特征: 10--frameTagRatio\n",
      "min = 0.0\tmax = 0.444444444\n",
      "特征: 11--hasDomainLink\n",
      "min = 0.0\tmax = 1.0\n",
      "特征: 12--html_ratio\n",
      "min = 0.045564223\tmax = 0.716883117\n",
      "特征: 13--image_ratio\n",
      "min = -1.0\tmax = 113.3333333\n",
      "特征: 14--is_news\n",
      "min = 1.0\tmax = 1.0\n",
      "特征: 15--lengthyLinkDomain\n",
      "min = 0.0\tmax = 1.0\n",
      "特征: 16--linkwordscore\n",
      "min = 0.0\tmax = 100.0\n",
      "特征: 17--news_front_page\n",
      "min = 0.0\tmax = 1.0\n",
      "特征: 18--non_markup_alphanum_characters\n",
      "min = 0.0\tmax = 207952.0\n",
      "特征: 19--numberOfLinks\n",
      "min = 1.0\tmax = 4997.0\n",
      "特征: 20--numwords_in_url\n",
      "min = 0.0\tmax = 22.0\n",
      "特征: 21--parametrizedLinkRatio\n",
      "min = 0.0\tmax = 1.0\n",
      "特征: 22--spelling_errors_ratio\n",
      "min = 0.0\tmax = 1.0\n",
      "特征: 23--label\n",
      "min = 0.0\tmax = 1.0\n"
     ]
    }
   ],
   "source": [
    "# 去掉未知值'?'后查看最值\n",
    "t_size = len(data_train.first())\n",
    "for i in range(1, t_size):\n",
    "    print('特征: {0}--{1}'.format(i,header[i]),)\n",
    "    min_max(i)"
   ]
  },
  {
   "cell_type": "code",
   "execution_count": 43,
   "metadata": {
    "collapsed": true
   },
   "outputs": [],
   "source": [
    "# 定义处理数值型数据函数, \n",
    "# 把 '?' 转为 '0', 并将数据类型转为float\n",
    "def extract_num_features(data, _id, _val,):\n",
    "    if data[_id] == _val: data[_id]=0\n",
    "    #data_tmp = np.array(data).astype(np.float)\n",
    "    return data.astype(np.float) + 1"
   ]
  },
  {
   "cell_type": "code",
   "execution_count": 44,
   "metadata": {
    "collapsed": false
   },
   "outputs": [
    {
     "data": {
      "text/plain": [
       "array([  1.78913100e+00,   3.05555556e+00,   1.67647059e+00,\n",
       "         1.20588235e+00,   1.04705882e+00,   1.02352941e+00,\n",
       "         1.44378318e+00,   1.00000000e+00,   1.09077381e+00,\n",
       "         1.24583118e+00,   1.00388349e+00,   2.50000000e+01,\n",
       "         5.42500000e+03,   1.71000000e+02,   1.15294118e+00,\n",
       "         1.07912958e+00])"
      ]
     },
     "execution_count": 44,
     "metadata": {},
     "output_type": "execute_result"
    }
   ],
   "source": [
    "num_id = [1,2,3,4,5,6,7,8, 10, 12,13, 16, 18,19, 21,22]\n",
    "# 取出数值型数据\n",
    "num_features = data_train.map(lambda x:x[num_id])\n",
    "# 处理数值型数据\n",
    "num_features = num_features.map(lambda x:extract_num_features(x,0,'?'))\n",
    "num_features.first()"
   ]
  },
  {
   "cell_type": "markdown",
   "metadata": {},
   "source": [
    "withMean=False"
   ]
  },
  {
   "cell_type": "code",
   "execution_count": 45,
   "metadata": {
    "collapsed": false
   },
   "outputs": [
    {
     "data": {
      "text/plain": [
       "array([  5.40075942,   0.35448133,   8.2530532 ,   8.21766191,\n",
       "        10.90933855,  14.09262299,   0.25310378,   3.26216293,\n",
       "        26.31818022,  23.73619231,   0.52304126,   1.22590479,\n",
       "         0.61123782,   0.95282567,   6.2904057 ,  13.62006239])"
      ]
     },
     "execution_count": 45,
     "metadata": {},
     "output_type": "execute_result"
    }
   ],
   "source": [
    "# 去均值和方差再归一化\n",
    "std_scaler = StandardScaler(withMean=False, withStd=True\n",
    "                           ).fit(num_features)\n",
    "num_features = std_scaler.transform(num_features\n",
    "                                   ).map(lambda x:np.array(x))\n",
    "num_features.first()"
   ]
  },
  {
   "cell_type": "code",
   "execution_count": 16,
   "metadata": {
    "collapsed": false,
    "scrolled": true
   },
   "outputs": [
    {
     "data": {
      "text/plain": [
       "{'0_?': 2,\n",
       " '0_arts_entertainment': 0,\n",
       " '0_business': 6,\n",
       " '0_computer_internet': 1,\n",
       " '0_culture_politics': 10,\n",
       " '0_gaming': 7,\n",
       " '0_health': 13,\n",
       " '0_law_crime': 8,\n",
       " '0_recreation': 12,\n",
       " '0_religion': 4,\n",
       " '0_science_technology': 11,\n",
       " '0_sports': 9,\n",
       " '0_unknown': 5,\n",
       " '0_weather': 3,\n",
       " '11_0': 15,\n",
       " '11_1': 16,\n",
       " '14_1': 17,\n",
       " '14_?': 18,\n",
       " '15_0': 20,\n",
       " '15_1': 19,\n",
       " '17_0': 23,\n",
       " '17_1': 21,\n",
       " '17_?': 22,\n",
       " '20_0': 29,\n",
       " '20_1': 33,\n",
       " '20_10': 24,\n",
       " '20_11': 43,\n",
       " '20_12': 31,\n",
       " '20_13': 41,\n",
       " '20_14': 26,\n",
       " '20_15': 45,\n",
       " '20_16': 35,\n",
       " '20_17': 27,\n",
       " '20_18': 38,\n",
       " '20_19': 37,\n",
       " '20_2': 44,\n",
       " '20_20': 32,\n",
       " '20_21': 34,\n",
       " '20_22': 28,\n",
       " '20_3': 40,\n",
       " '20_4': 25,\n",
       " '20_5': 39,\n",
       " '20_6': 46,\n",
       " '20_7': 42,\n",
       " '20_8': 30,\n",
       " '20_9': 36,\n",
       " '9_0': 14}"
      ]
     },
     "execution_count": 16,
     "metadata": {},
     "output_type": "execute_result"
    }
   ],
   "source": [
    "# 生成所有的 (类别特征值, id) 字典\n",
    "cat_id = [0,9,11,14,15,17,20]\n",
    "catgories_list = []\n",
    "for i in cat_id:\n",
    "    # 统计不同取值\n",
    "    value_list = data_train.map(lambda x:x[i]).distinct().collect()\n",
    "    # 生成唯一的特征值, 避免重复\n",
    "    value_list = list(map(lambda x:'{0}_{1}'.format(i,x), value_list))\n",
    "    catgories_list.extend(value_list)\n",
    "# 生成 {类别特征值:id} 字典\n",
    "catgories_dict = {k:i for i,k in enumerate(catgories_list)}\n",
    "catgories_dict"
   ]
  },
  {
   "cell_type": "code",
   "execution_count": 17,
   "metadata": {
    "collapsed": true
   },
   "outputs": [],
   "source": [
    "# 定义onehot函数\n",
    "def extract_cat_features(data, _id_l, dict_,):\n",
    "    data_tmp = np.zeros((len(dict_)))\n",
    "    for i,l in enumerate(_id_l):\n",
    "        v = '{0}_{1}'.format(l, data[i])\n",
    "        data_tmp[dict_[v]] = 1\n",
    "    return data_tmp"
   ]
  },
  {
   "cell_type": "code",
   "execution_count": 18,
   "metadata": {
    "collapsed": false
   },
   "outputs": [
    {
     "data": {
      "text/plain": [
       "array([ 0.,  0.,  0.,  0.,  0.,  0.,  1.,  0.,  0.,  0.,  0.,  0.,  0.,\n",
       "        0.,  1.,  1.,  0.,  1.,  0.,  1.,  0.,  0.,  0.,  1.,  0.,  0.,\n",
       "        0.,  0.,  0.,  0.,  1.,  0.,  0.,  0.,  0.,  0.,  0.,  0.,  0.,\n",
       "        0.,  0.,  0.,  0.,  0.,  0.,  0.,  0.])"
      ]
     },
     "execution_count": 18,
     "metadata": {},
     "output_type": "execute_result"
    }
   ],
   "source": [
    "# 类别特征的onehot处理\n",
    "cat_features = data_train.map(lambda x:x[cat_id])\n",
    "cat_features = cat_features.map(lambda x:extract_cat_features(x,cat_id,catgories_dict))\n",
    "cat_features.first()"
   ]
  },
  {
   "cell_type": "code",
   "execution_count": 19,
   "metadata": {
    "collapsed": false
   },
   "outputs": [
    {
     "data": {
      "text/plain": [
       "array([[6, 4, 7],\n",
       "       [8, 9, 0]])"
      ]
     },
     "execution_count": 19,
     "metadata": {},
     "output_type": "execute_result"
    }
   ],
   "source": [
    "np.array(([6,4,7], [8,9,0]))"
   ]
  },
  {
   "cell_type": "code",
   "execution_count": 46,
   "metadata": {
    "collapsed": false
   },
   "outputs": [
    {
     "data": {
      "text/plain": [
       "array([  5.40075942,   0.35448133,   8.2530532 ,   8.21766191,\n",
       "        10.90933855,  14.09262299,   0.25310378,   3.26216293,\n",
       "        26.31818022,  23.73619231,   0.52304126,   1.22590479,\n",
       "         0.61123782,   0.95282567,   6.2904057 ,  13.62006239,\n",
       "         0.        ,   0.        ,   0.        ,   0.        ,\n",
       "         0.        ,   0.        ,   1.        ,   0.        ,\n",
       "         0.        ,   0.        ,   0.        ,   0.        ,\n",
       "         0.        ,   0.        ,   1.        ,   1.        ,\n",
       "         0.        ,   1.        ,   0.        ,   1.        ,\n",
       "         0.        ,   0.        ,   0.        ,   1.        ,\n",
       "         0.        ,   0.        ,   0.        ,   0.        ,\n",
       "         0.        ,   0.        ,   1.        ,   0.        ,\n",
       "         0.        ,   0.        ,   0.        ,   0.        ,\n",
       "         0.        ,   0.        ,   0.        ,   0.        ,\n",
       "         0.        ,   0.        ,   0.        ,   0.        ,\n",
       "         0.        ,   0.        ,   0.        ])"
      ]
     },
     "execution_count": 46,
     "metadata": {},
     "output_type": "execute_result"
    }
   ],
   "source": [
    "num_features.zip(cat_features).map(lambda x:np.concatenate((x[0],x[1]))).first()"
   ]
  },
  {
   "cell_type": "markdown",
   "metadata": {},
   "source": [
    "# 生成训练数据"
   ]
  },
  {
   "cell_type": "code",
   "execution_count": 47,
   "metadata": {
    "collapsed": false
   },
   "outputs": [
    {
     "data": {
      "text/plain": [
       "LabeledPoint(0.0, [5.400759415,0.354481330538,8.25305319902,8.21766190613,10.9093385542,14.0926229922,0.253103777329,3.26216292622,26.318180219,23.7361923148,0.523041255079,1.22590479417,0.611237823404,0.952825667702,6.29040570308,13.6200623886,0.0,0.0,0.0,0.0,0.0,0.0,1.0,0.0,0.0,0.0,0.0,0.0,0.0,0.0,1.0,1.0,0.0,1.0,0.0,1.0,0.0,0.0,0.0,1.0,0.0,0.0,0.0,0.0,0.0,0.0,1.0,0.0,0.0,0.0,0.0,0.0,0.0,0.0,0.0,0.0,0.0,0.0,0.0,0.0,0.0,0.0,0.0])"
      ]
     },
     "execution_count": 47,
     "metadata": {},
     "output_type": "execute_result"
    }
   ],
   "source": [
    "train_data = num_features.zip(cat_features)\n",
    "train_data = train_data.map(lambda x:np.concatenate((x[0],x[1])))\n",
    "train_data = labels.zip(train_data)\n",
    "train_data = train_data.map(lambda x:LabeledPoint(x[0],x[1]))\n",
    "train_data.first()"
   ]
  },
  {
   "cell_type": "markdown",
   "metadata": {
    "collapsed": true
   },
   "source": [
    "# 训练与预测与评价"
   ]
  },
  {
   "cell_type": "code",
   "execution_count": 48,
   "metadata": {
    "collapsed": false,
    "scrolled": true
   },
   "outputs": [
    {
     "data": {
      "text/plain": [
       "PythonRDD[852] at RDD at PythonRDD.scala:49"
      ]
     },
     "execution_count": 48,
     "metadata": {},
     "output_type": "execute_result"
    }
   ],
   "source": [
    "train_data.cache()"
   ]
  },
  {
   "cell_type": "code",
   "execution_count": 49,
   "metadata": {
    "collapsed": false
   },
   "outputs": [],
   "source": [
    "# 生成并训练模型\n",
    "model = NaiveBayes.train(train_data,)"
   ]
  },
  {
   "cell_type": "code",
   "execution_count": 50,
   "metadata": {
    "collapsed": false
   },
   "outputs": [
    {
     "data": {
      "text/plain": [
       "1.0"
      ]
     },
     "execution_count": 50,
     "metadata": {},
     "output_type": "execute_result"
    }
   ],
   "source": [
    "model.predict([1.1376473365,-0.9819355716929,0.02513981289,-0.0558635644254,-0.468893253129,-0.354305326308,-0.317535217236,0.33845079824,0.828822173315,0.229639823578,-0.141625969099,-0.297996816496,-0.0329672096969,-0.0487811297558,-0.108698488525,-0.278820782314,0.0,0.0,0.0,0.0,0.0,0.0,1.0,0.0,0.0,0.0,0.0,0.0,0.0,0.0,1.0,1.0,0.0,1.0,0.0,1.0,0.0,0.0,0.0,1.0,0.0,0.0,0.0,0.0,0.0,0.0,1.0,0.0,0.0,0.0,0.0,0.0,0.0,0.0,0.0,0.0,0.0,0.0,0.0,0.0,0.0,0.0,0.0])"
   ]
  },
  {
   "cell_type": "code",
   "execution_count": 51,
   "metadata": {
    "collapsed": true
   },
   "outputs": [],
   "source": [
    "# 获取预测值\n",
    "pre = model.predict(train_data.map(lambda x:x.features)).map(float)"
   ]
  },
  {
   "cell_type": "code",
   "execution_count": 52,
   "metadata": {
    "collapsed": false
   },
   "outputs": [],
   "source": [
    "# 打包预测值和真实值\n",
    "scoreAndLabels = pre.zip(train_data.map(lambda p: p.label))"
   ]
  },
  {
   "cell_type": "code",
   "execution_count": 53,
   "metadata": {
    "collapsed": false
   },
   "outputs": [
    {
     "data": {
      "text/plain": [
       "(1.0, 0.0)"
      ]
     },
     "execution_count": 53,
     "metadata": {},
     "output_type": "execute_result"
    }
   ],
   "source": [
    "scoreAndLabels.first()"
   ]
  },
  {
   "cell_type": "code",
   "execution_count": 54,
   "metadata": {
    "collapsed": false
   },
   "outputs": [],
   "source": [
    "# 生成评价函数\n",
    "metrics = BinaryClassificationMetrics(scoreAndLabels)"
   ]
  },
  {
   "cell_type": "code",
   "execution_count": 55,
   "metadata": {
    "collapsed": false
   },
   "outputs": [
    {
     "data": {
      "text/plain": [
       "0.6524470706796848"
      ]
     },
     "execution_count": 55,
     "metadata": {},
     "output_type": "execute_result"
    }
   ],
   "source": [
    "metrics.areaUnderROC"
   ]
  },
  {
   "cell_type": "code",
   "execution_count": 56,
   "metadata": {
    "collapsed": false
   },
   "outputs": [
    {
     "data": {
      "text/plain": [
       "0.6338904813957008"
      ]
     },
     "execution_count": 56,
     "metadata": {},
     "output_type": "execute_result"
    }
   ],
   "source": [
    "metrics.areaUnderPR"
   ]
  },
  {
   "cell_type": "code",
   "execution_count": 57,
   "metadata": {
    "collapsed": true
   },
   "outputs": [],
   "source": [
    "model.save(sc, path+'NaiveBayes')"
   ]
  },
  {
   "cell_type": "code",
   "execution_count": 60,
   "metadata": {
    "collapsed": false
   },
   "outputs": [
    {
     "data": {
      "text/plain": [
       "array([[ -3.41119855,  -5.70791131,  -2.89869515,  -2.7620917 ,\n",
       "         -2.44265257,  -2.2000044 ,  -5.32322032,  -3.80580312,\n",
       "         -1.61896142,  -1.70524643,  -5.24650372,  -4.33257734,\n",
       "         -5.47307058,  -4.94865353,  -3.0102814 ,  -2.22862235,\n",
       "         -6.66967418,  -7.64153477,  -5.99098919, -11.44374291,\n",
       "         -9.2919807 , -11.44374291,  -7.51191727,  -9.16136052,\n",
       "        -10.10874184,  -7.33944801,  -7.8220722 ,  -7.99058578,\n",
       "         -7.08960147,  -7.67328346,  -4.86449169,  -4.8866805 ,\n",
       "         -8.67115418,  -5.35696818,  -5.80823927,  -5.30385835,\n",
       "         -5.89778452,  -7.99693501,  -6.607461  ,  -5.11046328,\n",
       "         -8.25739027,  -7.0153099 ,  -9.9176866 , -11.26142135,\n",
       "        -13.05318082,  -7.16153661,  -7.50410473,  -9.01012955,\n",
       "        -12.36003364,  -7.44005271, -12.36003364, -11.10727067,\n",
       "         -7.75987599, -11.95456853, -11.44374291,  -7.15602695,\n",
       "         -7.16985843,  -9.16136052,  -7.19239459,  -8.55337115,\n",
       "         -7.3427538 , -10.41412349,  -7.18106303],\n",
       "       [ -3.41841581,  -5.68002711,  -2.87598784,  -2.74227196,\n",
       "         -2.42438971,  -2.18923313,  -5.53312658,  -3.77911807,\n",
       "         -1.63406776,  -1.70997164,  -5.29882148,  -4.56137937,\n",
       "         -5.16695453,  -4.78823255,  -3.00732035,  -2.23742565,\n",
       "         -7.24605817,  -8.8027793 ,  -6.03612029, -13.1068444 ,\n",
       "         -9.67285719, -12.00823211,  -6.66589786,  -9.73954857,\n",
       "        -10.46778707,  -8.73739654,  -8.04424936,  -8.21649527,\n",
       "         -6.37106438,  -7.43352113,  -4.86487784,  -4.8856343 ,\n",
       "         -8.73739654,  -5.34297311,  -5.83167208,  -5.25713064,\n",
       "         -5.98963889,  -8.17237046,  -6.67712492,  -5.0872316 ,\n",
       "         -8.47211541,  -6.84535271, -10.21647264, -12.41369722,\n",
       "        -12.41369722,  -7.57345491,  -7.56166695,  -9.32265476,\n",
       "        -13.1068444 ,  -7.75025812, -13.1068444 , -11.72055003,\n",
       "         -8.03167058, -12.41369722, -12.00823211,  -6.85301558,\n",
       "         -6.87833339,  -9.73954857,  -7.34479301,  -9.01249983,\n",
       "         -7.27203366, -10.8042593 ,  -7.00205116]])"
      ]
     },
     "execution_count": 60,
     "metadata": {},
     "output_type": "execute_result"
    }
   ],
   "source": [
    "model.theta"
   ]
  },
  {
   "cell_type": "code",
   "execution_count": 59,
   "metadata": {
    "collapsed": false
   },
   "outputs": [
    {
     "data": {
      "text/plain": [
       "['__class__',\n",
       " '__delattr__',\n",
       " '__dict__',\n",
       " '__dir__',\n",
       " '__doc__',\n",
       " '__eq__',\n",
       " '__format__',\n",
       " '__ge__',\n",
       " '__getattribute__',\n",
       " '__gt__',\n",
       " '__hash__',\n",
       " '__init__',\n",
       " '__le__',\n",
       " '__lt__',\n",
       " '__module__',\n",
       " '__ne__',\n",
       " '__new__',\n",
       " '__reduce__',\n",
       " '__reduce_ex__',\n",
       " '__repr__',\n",
       " '__setattr__',\n",
       " '__sizeof__',\n",
       " '__slotnames__',\n",
       " '__str__',\n",
       " '__subclasshook__',\n",
       " '__weakref__',\n",
       " 'labels',\n",
       " 'load',\n",
       " 'pi',\n",
       " 'predict',\n",
       " 'save',\n",
       " 'theta']"
      ]
     },
     "execution_count": 59,
     "metadata": {},
     "output_type": "execute_result"
    }
   ],
   "source": [
    "dir(model)"
   ]
  },
  {
   "cell_type": "code",
   "execution_count": null,
   "metadata": {
    "collapsed": true
   },
   "outputs": [],
   "source": []
  }
 ],
 "metadata": {
  "anaconda-cloud": {},
  "kernelspec": {
   "display_name": "Python [default]",
   "language": "python",
   "name": "python3"
  },
  "language_info": {
   "codemirror_mode": {
    "name": "ipython",
    "version": 3
   },
   "file_extension": ".py",
   "mimetype": "text/x-python",
   "name": "python",
   "nbconvert_exporter": "python",
   "pygments_lexer": "ipython3",
   "version": "3.5.2"
  },
  "toc": {
   "nav_menu": {},
   "number_sections": true,
   "sideBar": true,
   "skip_h1_title": false,
   "title_cell": "Table of Contents",
   "title_sidebar": "Contents",
   "toc_cell": false,
   "toc_position": {},
   "toc_section_display": true,
   "toc_window_display": false
  }
 },
 "nbformat": 4,
 "nbformat_minor": 2
}

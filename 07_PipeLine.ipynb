{
 "cells": [
  {
   "cell_type": "code",
   "execution_count": 71,
   "metadata": {
    "ExecuteTime": {
     "end_time": "2018-08-17T00:55:53.808389Z",
     "start_time": "2018-08-17T00:55:53.604783Z"
    },
    "collapsed": true
   },
   "outputs": [],
   "source": [
    "# -*- coding: UTF-8 -*-\n",
    "import sys\n",
    "from time import time\n",
    "import pandas as pd\n",
    "import numpy as np\n",
    "\n",
    "from pyspark import SparkConf, SparkContext\n",
    "from pyspark.sql import SparkSession\n",
    "from pyspark.sql import Row\n",
    "from pyspark.ml.classification import DecisionTreeClassifier\n",
    "from pyspark.ml import Pipeline\n",
    "from pyspark.ml.evaluation import BinaryClassificationEvaluator\n",
    "from pyspark.ml.tuning import ParamGridBuilder,CrossValidator\n",
    "\n",
    "from pyspark.ml.feature import StringIndexer\n",
    "from pyspark.ml.feature import OneHotEncoder\n",
    "from pyspark.ml.feature import VectorAssembler"
   ]
  },
  {
   "cell_type": "code",
   "execution_count": 2,
   "metadata": {
    "collapsed": false
   },
   "outputs": [
    {
     "data": {
      "text/plain": [
       "'local[*]'"
      ]
     },
     "execution_count": 2,
     "metadata": {},
     "output_type": "execute_result"
    }
   ],
   "source": [
    "sparkConf = SparkConf().setAppName(\"PipeLine_Test\")\n",
    "sc = SparkContext(conf = sparkConf)\n",
    "sc.master"
   ]
  },
  {
   "cell_type": "code",
   "execution_count": 3,
   "metadata": {
    "collapsed": true
   },
   "outputs": [],
   "source": [
    "sqlContext = SparkSession.builder.getOrCreate()"
   ]
  },
  {
   "cell_type": "code",
   "execution_count": 4,
   "metadata": {
    "collapsed": true
   },
   "outputs": [],
   "source": [
    "logger = sc._jvm.org.apache.log4j\n",
    "logger.LogManager.getLogger(\"org\"). setLevel( logger.Level.ERROR )\n",
    "logger.LogManager.getLogger(\"akka\").setLevel( logger.Level.ERROR )\n",
    "logger.LogManager.getRootLogger().setLevel(logger.Level.ERROR)"
   ]
  },
  {
   "cell_type": "code",
   "execution_count": 5,
   "metadata": {
    "collapsed": false
   },
   "outputs": [
    {
     "data": {
      "text/plain": [
       "DataFrame[url: string, urlid: string, boilerplate: string, alchemy_category: string, alchemy_category_score: string, avglinksize: string, commonlinkratio_1: string, commonlinkratio_2: string, commonlinkratio_3: string, commonlinkratio_4: string, compression_ratio: string, embed_ratio: string, framebased: string, frameTagRatio: string, hasDomainLink: string, html_ratio: string, image_ratio: string, is_news: string, lengthyLinkDomain: string, linkwordscore: string, news_front_page: string, non_markup_alphanum_characters: string, numberOfLinks: string, numwords_in_url: string, parametrizedLinkRatio: string, spelling_errors_ratio: string, label: string]"
      ]
     },
     "execution_count": 5,
     "metadata": {},
     "output_type": "execute_result"
    }
   ],
   "source": [
    "path = 'file:///mnt/f/AI/Book/other/spark_tmp/PythonProject/'\n",
    "data = sqlContext.read.csv(path+'data/train.tsv', header=True, sep='\\t')\n",
    "data.cache()"
   ]
  },
  {
   "cell_type": "code",
   "execution_count": 6,
   "metadata": {
    "collapsed": false
   },
   "outputs": [
    {
     "name": "stdout",
     "output_type": "stream",
     "text": [
      "root\n",
      " |-- url: string (nullable = true)\n",
      " |-- urlid: string (nullable = true)\n",
      " |-- boilerplate: string (nullable = true)\n",
      " |-- alchemy_category: string (nullable = true)\n",
      " |-- alchemy_category_score: string (nullable = true)\n",
      " |-- avglinksize: string (nullable = true)\n",
      " |-- commonlinkratio_1: string (nullable = true)\n",
      " |-- commonlinkratio_2: string (nullable = true)\n",
      " |-- commonlinkratio_3: string (nullable = true)\n",
      " |-- commonlinkratio_4: string (nullable = true)\n",
      " |-- compression_ratio: string (nullable = true)\n",
      " |-- embed_ratio: string (nullable = true)\n",
      " |-- framebased: string (nullable = true)\n",
      " |-- frameTagRatio: string (nullable = true)\n",
      " |-- hasDomainLink: string (nullable = true)\n",
      " |-- html_ratio: string (nullable = true)\n",
      " |-- image_ratio: string (nullable = true)\n",
      " |-- is_news: string (nullable = true)\n",
      " |-- lengthyLinkDomain: string (nullable = true)\n",
      " |-- linkwordscore: string (nullable = true)\n",
      " |-- news_front_page: string (nullable = true)\n",
      " |-- non_markup_alphanum_characters: string (nullable = true)\n",
      " |-- numberOfLinks: string (nullable = true)\n",
      " |-- numwords_in_url: string (nullable = true)\n",
      " |-- parametrizedLinkRatio: string (nullable = true)\n",
      " |-- spelling_errors_ratio: string (nullable = true)\n",
      " |-- label: string (nullable = true)\n",
      "\n"
     ]
    }
   ],
   "source": [
    "data.printSchema()"
   ]
  },
  {
   "cell_type": "code",
   "execution_count": 7,
   "metadata": {
    "collapsed": false
   },
   "outputs": [
    {
     "data": {
      "text/plain": [
       "7395"
      ]
     },
     "execution_count": 7,
     "metadata": {},
     "output_type": "execute_result"
    }
   ],
   "source": [
    "data.count()"
   ]
  },
  {
   "cell_type": "code",
   "execution_count": 8,
   "metadata": {
    "collapsed": false,
    "scrolled": true
   },
   "outputs": [
    {
     "data": {
      "text/plain": [
       "Row(url='http://www.bloomberg.com/news/2010-12-23/ibm-predicts-holographic-calls-air-breathing-batteries-by-2015.html', urlid='4042', boilerplate='\"{\"\"title\"\":\"\"IBM Sees Holographic Calls Air Breathing Batteries ibm sees holographic calls, air-breathing batteries\"\",\"\"body\"\":\"\"A sign stands outside the International Business Machines Corp IBM Almaden Research Center campus in San Jose California Photographer Tony Avelar Bloomberg Buildings stand at the International Business Machines Corp IBM Almaden Research Center campus in the Santa Teresa Hills of San Jose California Photographer Tony Avelar Bloomberg By 2015 your mobile phone will project a 3 D image of anyone who calls and your laptop will be powered by kinetic energy At least that s what International Business Machines Corp sees in its crystal ball The predictions are part of an annual tradition for the Armonk New York based company which surveys its 3 000 researchers to find five ideas expected to take root in the next five years IBM the world s largest provider of computer services looks to Silicon Valley for input gleaning many ideas from its Almaden research center in San Jose California Holographic conversations projected from mobile phones lead this year s list The predictions also include air breathing batteries computer programs that can tell when and where traffic jams will take place environmental information generated by sensors in cars and phones and cities powered by the heat thrown off by computer servers These are all stretch goals and that s good said Paul Saffo managing director of foresight at the investment advisory firm Discern in San Francisco In an era when pessimism is the new black a little dose of technological optimism is not a bad thing For IBM it s not just idle speculation The company is one of the few big corporations investing in long range research projects and it counts on innovation to fuel growth Saffo said Not all of its predictions pan out though IBM was overly optimistic about the spread of speech technology for instance When the ideas do lead to products they can have broad implications for society as well as IBM s bottom line he said Research Spending They have continued to do research when all the other grand research organizations are gone said Saffo who is also a consulting associate professor at Stanford University IBM invested 5 8 billion in research and development last year 6 1 percent of revenue While that s down from about 10 percent in the early 1990s the company spends a bigger share on research than its computing rivals Hewlett Packard Co the top maker of personal computers spent 2 4 percent last year At Almaden scientists work on projects that don t always fit in with IBM s computer business The lab s research includes efforts to develop an electric car battery that runs 500 miles on one charge a filtration system for desalination and a program that shows changes in geographic data IBM rose 9 cents to 146 04 at 11 02 a m in New York Stock Exchange composite trading The stock had gained 11 percent this year before today Citizen Science The list is meant to give a window into the company s innovation engine said Josephine Cheng a vice president at IBM s Almaden lab All this demonstrates a real culture of innovation at IBM and willingness to devote itself to solving some of the world s biggest problems she said Many of the predictions are based on projects that IBM has in the works One of this year s ideas that sensors in cars wallets and personal devices will give scientists better data about the environment is an expansion of the company s citizen science initiative Earlier this year IBM teamed up with the California State Water Resources Control Board and the City of San Jose Environmental Services to help gather information about waterways Researchers from Almaden created an application that lets smartphone users snap photos of streams and creeks and report back on conditions The hope is that these casual observations will help local and state officials who don t have the resources to do the work themselves Traffic Predictors IBM also sees data helping shorten commutes in the next five years Computer programs will use algorithms and real time traffic information to predict which roads will have backups and how to avoid getting stuck Batteries may last 10 times longer in 2015 than today IBM says Rather than using the current lithium ion technology new models could rely on energy dense metals that only need to interact with the air to recharge Some electronic devices might ditch batteries altogether and use something similar to kinetic wristwatches which only need to be shaken to generate a charge The final prediction involves recycling the heat generated by computers and data centers Almost half of the power used by data centers is currently spent keeping the computers cool IBM scientists say it would be better to harness that heat to warm houses and offices In IBM s first list of predictions compiled at the end of 2006 researchers said instantaneous speech translation would become the norm That hasn t happened yet While some programs can quickly translate electronic documents and instant messages and other apps can perform limited speech translation there s nothing widely available that acts like the universal translator in Star Trek Second Life The company also predicted that online immersive environments such as Second Life would become more widespread While immersive video games are as popular as ever Second Life s growth has slowed Internet users are flocking instead to the more 2 D environments of Facebook Inc and Twitter Inc Meanwhile a 2007 prediction that mobile phones will act as a wallet ticket broker concierge bank and shopping assistant is coming true thanks to the explosion of smartphone applications Consumers can pay bills through their banking apps buy movie tickets and get instant feedback on potential purchases all with a few taps on their phones The nice thing about the list is that it provokes thought Saffo said If everything came true they wouldn t be doing their job To contact the reporter on this story Ryan Flinn in San Francisco at rflinn bloomberg net To contact the editor responsible for this story Tom Giles at tgiles5 bloomberg net by 2015, your mobile phone will project a 3-d image of anyone who calls and your laptop will be powered by kinetic energy. at least that\\\\u2019s what international business machines corp. sees in its crystal ball.\"\",\"\"url\"\":\"\"bloomberg news 2010 12 23 ibm predicts holographic calls air breathing batteries by 2015 html\"\"}\"', alchemy_category='business', alchemy_category_score='0.789131', avglinksize='2.055555556', commonlinkratio_1='0.676470588', commonlinkratio_2='0.205882353', commonlinkratio_3='0.047058824', commonlinkratio_4='0.023529412', compression_ratio='0.443783175', embed_ratio='0', framebased='0', frameTagRatio='0.09077381', hasDomainLink='0', html_ratio='0.245831182', image_ratio='0.003883495', is_news='1', lengthyLinkDomain='1', linkwordscore='24', news_front_page='0', non_markup_alphanum_characters='5424', numberOfLinks='170', numwords_in_url='8', parametrizedLinkRatio='0.152941176', spelling_errors_ratio='0.079129575', label='0')"
      ]
     },
     "execution_count": 8,
     "metadata": {},
     "output_type": "execute_result"
    }
   ],
   "source": [
    "data.first()"
   ]
  },
  {
   "cell_type": "markdown",
   "metadata": {},
   "source": [
    "user id \\t movie id \\t rating \\t time"
   ]
  },
  {
   "cell_type": "code",
   "execution_count": 9,
   "metadata": {
    "collapsed": false
   },
   "outputs": [],
   "source": [
    "data = data.replace('?','0', ['alchemy_category_score', \n",
    "                              'is_news', 'news_front_page', ])"
   ]
  },
  {
   "cell_type": "code",
   "execution_count": 10,
   "metadata": {
    "collapsed": false
   },
   "outputs": [],
   "source": [
    "header = np.array(data.columns[3:])\n",
    "num_ids = [1,2,3,4,5,6,7,8, 10, 12,13, 16, 18,19, 21,22]\n",
    "num_list = header[num_ids]\n",
    "cat_ids = [0,9,11,14,15,17,20]\n",
    "cat_list = header[cat_ids]"
   ]
  },
  {
   "cell_type": "code",
   "execution_count": 11,
   "metadata": {
    "collapsed": false
   },
   "outputs": [
    {
     "data": {
      "text/plain": [
       "array(['alchemy_category', 'framebased', 'hasDomainLink', 'is_news',\n",
       "       'lengthyLinkDomain', 'news_front_page', 'numwords_in_url'], \n",
       "      dtype='<U30')"
      ]
     },
     "execution_count": 11,
     "metadata": {},
     "output_type": "execute_result"
    }
   ],
   "source": [
    "cat_list"
   ]
  },
  {
   "cell_type": "code",
   "execution_count": 12,
   "metadata": {
    "collapsed": false
   },
   "outputs": [
    {
     "data": {
      "text/plain": [
       "[('alchemy_category_score', 'double'),\n",
       " ('avglinksize', 'double'),\n",
       " ('commonlinkratio_1', 'double'),\n",
       " ('commonlinkratio_2', 'double'),\n",
       " ('commonlinkratio_3', 'double'),\n",
       " ('commonlinkratio_4', 'double'),\n",
       " ('compression_ratio', 'double'),\n",
       " ('embed_ratio', 'double'),\n",
       " ('frameTagRatio', 'double'),\n",
       " ('html_ratio', 'double'),\n",
       " ('image_ratio', 'double'),\n",
       " ('linkwordscore', 'double'),\n",
       " ('non_markup_alphanum_characters', 'double'),\n",
       " ('numberOfLinks', 'double'),\n",
       " ('parametrizedLinkRatio', 'double'),\n",
       " ('spelling_errors_ratio', 'double'),\n",
       " ('label', 'double'),\n",
       " ('framebased', 'string'),\n",
       " ('hasDomainLink', 'string'),\n",
       " ('is_news', 'string'),\n",
       " ('lengthyLinkDomain', 'string'),\n",
       " ('news_front_page', 'string'),\n",
       " ('numwords_in_url', 'string'),\n",
       " ('alchemy_category', 'string')]"
      ]
     },
     "execution_count": 12,
     "metadata": {},
     "output_type": "execute_result"
    }
   ],
   "source": [
    "train_data = data.select(data.alchemy_category_score.cast('Double'),\n",
    "                        data.avglinksize.cast('Double'),\n",
    "                        data.commonlinkratio_1.cast('Double'),\n",
    "                        data.commonlinkratio_2.cast('Double'),\n",
    "                        data.commonlinkratio_3.cast('Double'),\n",
    "                        data.commonlinkratio_4.cast('Double'),\n",
    "                        data.compression_ratio.cast('Double'),\n",
    "                        data.embed_ratio.cast('Double'),\n",
    "                        data.frameTagRatio.cast('Double'),\n",
    "                        data.html_ratio.cast('Double'),\n",
    "                        data.image_ratio.cast('Double'),\n",
    "                        data.linkwordscore.cast('Double'),\n",
    "                        data.non_markup_alphanum_characters.cast('Double'),\n",
    "                        data.numberOfLinks.cast('Double'),\n",
    "                        data.parametrizedLinkRatio.cast('Double'),\n",
    "                        data.spelling_errors_ratio.cast('Double'),\n",
    "                        data.label.cast('Double'),\n",
    "                        \n",
    "                         'framebased', \n",
    "                         'hasDomainLink', \n",
    "                         'is_news',\n",
    "                         'lengthyLinkDomain', \n",
    "                         'news_front_page', \n",
    "                         'numwords_in_url',\n",
    "                         'alchemy_category', \n",
    "                        )\n",
    "train_data.dtypes"
   ]
  },
  {
   "cell_type": "code",
   "execution_count": 13,
   "metadata": {
    "collapsed": false
   },
   "outputs": [
    {
     "data": {
      "text/plain": [
       "[('alchemy_category_score', 'double'),\n",
       " ('avglinksize', 'double'),\n",
       " ('commonlinkratio_1', 'double'),\n",
       " ('commonlinkratio_2', 'double'),\n",
       " ('commonlinkratio_3', 'double'),\n",
       " ('commonlinkratio_4', 'double'),\n",
       " ('compression_ratio', 'double'),\n",
       " ('embed_ratio', 'double'),\n",
       " ('frameTagRatio', 'double'),\n",
       " ('html_ratio', 'double'),\n",
       " ('image_ratio', 'double'),\n",
       " ('linkwordscore', 'double'),\n",
       " ('non_markup_alphanum_characters', 'double'),\n",
       " ('numberOfLinks', 'double'),\n",
       " ('parametrizedLinkRatio', 'double'),\n",
       " ('spelling_errors_ratio', 'double'),\n",
       " ('label', 'double'),\n",
       " ('framebased', 'string'),\n",
       " ('hasDomainLink', 'string'),\n",
       " ('is_news', 'string'),\n",
       " ('lengthyLinkDomain', 'string'),\n",
       " ('news_front_page', 'string'),\n",
       " ('numwords_in_url', 'string'),\n",
       " ('alchemy_category', 'string'),\n",
       " ('alchemy_category_indexer', 'double'),\n",
       " ('framebased_indexer', 'double'),\n",
       " ('hasDomainLink_indexer', 'double'),\n",
       " ('is_news_indexer', 'double'),\n",
       " ('lengthyLinkDomain_indexer', 'double'),\n",
       " ('news_front_page_indexer', 'double'),\n",
       " ('numwords_in_url_indexer', 'double')]"
      ]
     },
     "execution_count": 13,
     "metadata": {},
     "output_type": "execute_result"
    }
   ],
   "source": [
    "for feature_name in cat_list:\n",
    "    cat_indexer = StringIndexer(inputCol=feature_name, \n",
    "                                outputCol=feature_name+'_indexer')\n",
    "    train_data_trafor = cat_indexer.fit(train_data)\n",
    "    train_data = train_data_trafor.transform(train_data)\n",
    "    \n",
    "train_data.dtypes"
   ]
  },
  {
   "cell_type": "code",
   "execution_count": 14,
   "metadata": {
    "collapsed": false
   },
   "outputs": [
    {
     "data": {
      "text/plain": [
       "[('alchemy_category_score', 'double'),\n",
       " ('avglinksize', 'double'),\n",
       " ('commonlinkratio_1', 'double'),\n",
       " ('commonlinkratio_2', 'double'),\n",
       " ('commonlinkratio_3', 'double'),\n",
       " ('commonlinkratio_4', 'double'),\n",
       " ('compression_ratio', 'double'),\n",
       " ('embed_ratio', 'double'),\n",
       " ('frameTagRatio', 'double'),\n",
       " ('html_ratio', 'double'),\n",
       " ('image_ratio', 'double'),\n",
       " ('linkwordscore', 'double'),\n",
       " ('non_markup_alphanum_characters', 'double'),\n",
       " ('numberOfLinks', 'double'),\n",
       " ('parametrizedLinkRatio', 'double'),\n",
       " ('spelling_errors_ratio', 'double'),\n",
       " ('label', 'double'),\n",
       " ('framebased', 'string'),\n",
       " ('hasDomainLink', 'string'),\n",
       " ('is_news', 'string'),\n",
       " ('lengthyLinkDomain', 'string'),\n",
       " ('news_front_page', 'string'),\n",
       " ('numwords_in_url', 'string'),\n",
       " ('alchemy_category', 'string'),\n",
       " ('alchemy_category_indexer', 'double'),\n",
       " ('framebased_indexer', 'double'),\n",
       " ('hasDomainLink_indexer', 'double'),\n",
       " ('is_news_indexer', 'double'),\n",
       " ('lengthyLinkDomain_indexer', 'double'),\n",
       " ('news_front_page_indexer', 'double'),\n",
       " ('numwords_in_url_indexer', 'double'),\n",
       " ('alchemy_category_onehoted', 'vector'),\n",
       " ('framebased_onehoted', 'vector'),\n",
       " ('hasDomainLink_onehoted', 'vector'),\n",
       " ('is_news_onehoted', 'vector'),\n",
       " ('lengthyLinkDomain_onehoted', 'vector'),\n",
       " ('news_front_page_onehoted', 'vector'),\n",
       " ('numwords_in_url_onehoted', 'vector')]"
      ]
     },
     "execution_count": 14,
     "metadata": {},
     "output_type": "execute_result"
    }
   ],
   "source": [
    "for feature_name in cat_list:\n",
    "    onehot_encoder = OneHotEncoder(dropLast=False, \n",
    "                                   inputCol=feature_name+'_indexer', \n",
    "                                   outputCol=feature_name+'_onehoted')\n",
    "    train_data = onehot_encoder.transform(train_data)\n",
    "\n",
    "train_data.dtypes"
   ]
  },
  {
   "cell_type": "code",
   "execution_count": 15,
   "metadata": {
    "collapsed": false
   },
   "outputs": [
    {
     "data": {
      "text/plain": [
       "[('alchemy_category_score', 'double'),\n",
       " ('avglinksize', 'double'),\n",
       " ('commonlinkratio_1', 'double'),\n",
       " ('commonlinkratio_2', 'double'),\n",
       " ('commonlinkratio_3', 'double'),\n",
       " ('commonlinkratio_4', 'double'),\n",
       " ('compression_ratio', 'double'),\n",
       " ('embed_ratio', 'double'),\n",
       " ('frameTagRatio', 'double'),\n",
       " ('html_ratio', 'double'),\n",
       " ('image_ratio', 'double'),\n",
       " ('linkwordscore', 'double'),\n",
       " ('non_markup_alphanum_characters', 'double'),\n",
       " ('numberOfLinks', 'double'),\n",
       " ('parametrizedLinkRatio', 'double'),\n",
       " ('spelling_errors_ratio', 'double'),\n",
       " ('label', 'double'),\n",
       " ('framebased', 'string'),\n",
       " ('hasDomainLink', 'string'),\n",
       " ('is_news', 'string'),\n",
       " ('lengthyLinkDomain', 'string'),\n",
       " ('news_front_page', 'string'),\n",
       " ('numwords_in_url', 'string'),\n",
       " ('alchemy_category', 'string'),\n",
       " ('alchemy_category_indexer', 'double'),\n",
       " ('framebased_indexer', 'double'),\n",
       " ('hasDomainLink_indexer', 'double'),\n",
       " ('is_news_indexer', 'double'),\n",
       " ('lengthyLinkDomain_indexer', 'double'),\n",
       " ('news_front_page_indexer', 'double'),\n",
       " ('numwords_in_url_indexer', 'double'),\n",
       " ('alchemy_category_onehoted', 'vector'),\n",
       " ('framebased_onehoted', 'vector'),\n",
       " ('hasDomainLink_onehoted', 'vector'),\n",
       " ('is_news_onehoted', 'vector'),\n",
       " ('lengthyLinkDomain_onehoted', 'vector'),\n",
       " ('news_front_page_onehoted', 'vector'),\n",
       " ('numwords_in_url_onehoted', 'vector'),\n",
       " ('features', 'vector')]"
      ]
     },
     "execution_count": 15,
     "metadata": {},
     "output_type": "execute_result"
    }
   ],
   "source": [
    "assembler_input = train_data.columns[:16] + train_data.columns[-7:]\n",
    "\n",
    "assembler = VectorAssembler(inputCols=assembler_input, \n",
    "                            outputCol='features')\n",
    "\n",
    "train_data = assembler.transform(train_data)\n",
    "\n",
    "train_data.dtypes"
   ]
  },
  {
   "cell_type": "markdown",
   "metadata": {
    "collapsed": true
   },
   "source": [
    "data_train = train_data.select('features')\n",
    "data_train.take(1)"
   ]
  },
  {
   "cell_type": "code",
   "execution_count": 17,
   "metadata": {
    "collapsed": false
   },
   "outputs": [
    {
     "data": {
      "text/plain": [
       "DecisionTreeClassificationModel (uid=DecisionTreeClassifier_46ef82f3c41cbeb8b30e) of depth 5 with 61 nodes"
      ]
     },
     "execution_count": 17,
     "metadata": {},
     "output_type": "execute_result"
    }
   ],
   "source": [
    "model = DecisionTreeClassifier(featuresCol='features', \n",
    "                               labelCol='label')\n",
    "\n"
   ]
  },
  {
   "cell_type": "code",
   "execution_count": 24,
   "metadata": {
    "collapsed": false
   },
   "outputs": [],
   "source": [
    "model = model.fit(train_data)\n"
   ]
  },
  {
   "cell_type": "code",
   "execution_count": 26,
   "metadata": {
    "collapsed": false
   },
   "outputs": [],
   "source": [
    "pre = model.transform(train_data)"
   ]
  },
  {
   "cell_type": "code",
   "execution_count": 29,
   "metadata": {
    "collapsed": false
   },
   "outputs": [
    {
     "data": {
      "text/plain": [
       "[Row(alchemy_category_score=0.789131, avglinksize=2.055555556, commonlinkratio_1=0.676470588, commonlinkratio_2=0.205882353, commonlinkratio_3=0.047058824, commonlinkratio_4=0.023529412, compression_ratio=0.443783175, embed_ratio=0.0, frameTagRatio=0.09077381, html_ratio=0.245831182, image_ratio=0.003883495, linkwordscore=24.0, non_markup_alphanum_characters=5424.0, numberOfLinks=170.0, parametrizedLinkRatio=0.152941176, spelling_errors_ratio=0.079129575, label=0.0, framebased='0', hasDomainLink='0', is_news='1', lengthyLinkDomain='1', news_front_page='0', numwords_in_url='8', alchemy_category='business', alchemy_category_indexer=3.0, framebased_indexer=0.0, hasDomainLink_indexer=0.0, is_news_indexer=0.0, lengthyLinkDomain_indexer=0.0, news_front_page_indexer=0.0, numwords_in_url_indexer=7.0, alchemy_category_onehoted=SparseVector(14, {3: 1.0}), framebased_onehoted=SparseVector(1, {0: 1.0}), hasDomainLink_onehoted=SparseVector(2, {0: 1.0}), is_news_onehoted=SparseVector(2, {0: 1.0}), lengthyLinkDomain_onehoted=SparseVector(2, {0: 1.0}), news_front_page_onehoted=SparseVector(2, {0: 1.0}), numwords_in_url_onehoted=SparseVector(23, {7: 1.0}), features=SparseVector(62, {0: 0.7891, 1: 2.0556, 2: 0.6765, 3: 0.2059, 4: 0.0471, 5: 0.0235, 6: 0.4438, 8: 0.0908, 9: 0.2458, 10: 0.0039, 11: 24.0, 12: 5424.0, 13: 170.0, 14: 0.1529, 15: 0.0791, 19: 1.0, 30: 1.0, 31: 1.0, 33: 1.0, 35: 1.0, 37: 1.0, 46: 1.0}), rawPrediction=DenseVector([130.0, 527.0]), probability=DenseVector([0.1979, 0.8021]), prediction=1.0)]"
      ]
     },
     "execution_count": 29,
     "metadata": {},
     "output_type": "execute_result"
    }
   ],
   "source": [
    "pre.take(1)"
   ]
  },
  {
   "cell_type": "code",
   "execution_count": 39,
   "metadata": {
    "collapsed": false
   },
   "outputs": [
    {
     "data": {
      "text/plain": [
       "[('alchemy_category_score', 'double'),\n",
       " ('avglinksize', 'double'),\n",
       " ('commonlinkratio_1', 'double'),\n",
       " ('commonlinkratio_2', 'double'),\n",
       " ('commonlinkratio_3', 'double'),\n",
       " ('commonlinkratio_4', 'double'),\n",
       " ('compression_ratio', 'double'),\n",
       " ('embed_ratio', 'double'),\n",
       " ('frameTagRatio', 'double'),\n",
       " ('html_ratio', 'double'),\n",
       " ('image_ratio', 'double'),\n",
       " ('linkwordscore', 'double'),\n",
       " ('non_markup_alphanum_characters', 'double'),\n",
       " ('numberOfLinks', 'double'),\n",
       " ('parametrizedLinkRatio', 'double'),\n",
       " ('spelling_errors_ratio', 'double'),\n",
       " ('label', 'double'),\n",
       " ('framebased', 'string'),\n",
       " ('hasDomainLink', 'string'),\n",
       " ('is_news', 'string'),\n",
       " ('lengthyLinkDomain', 'string'),\n",
       " ('news_front_page', 'string'),\n",
       " ('numwords_in_url', 'string'),\n",
       " ('alchemy_category', 'string')]"
      ]
     },
     "execution_count": 39,
     "metadata": {},
     "output_type": "execute_result"
    }
   ],
   "source": [
    "train_pipeline = data.select(data.alchemy_category_score.cast('Double'),\n",
    "                        data.avglinksize.cast('Double'),\n",
    "                        data.commonlinkratio_1.cast('Double'),\n",
    "                        data.commonlinkratio_2.cast('Double'),\n",
    "                        data.commonlinkratio_3.cast('Double'),\n",
    "                        data.commonlinkratio_4.cast('Double'),\n",
    "                        data.compression_ratio.cast('Double'),\n",
    "                        data.embed_ratio.cast('Double'),\n",
    "                        data.frameTagRatio.cast('Double'),\n",
    "                        data.html_ratio.cast('Double'),\n",
    "                        data.image_ratio.cast('Double'),\n",
    "                        data.linkwordscore.cast('Double'),\n",
    "                        data.non_markup_alphanum_characters.cast('Double'),\n",
    "                        data.numberOfLinks.cast('Double'),\n",
    "                        data.parametrizedLinkRatio.cast('Double'),\n",
    "                        data.spelling_errors_ratio.cast('Double'),\n",
    "                        data.label.cast('Double'),\n",
    "                        \n",
    "                         'framebased', \n",
    "                         'hasDomainLink', \n",
    "                         'is_news',\n",
    "                         'lengthyLinkDomain', \n",
    "                         'news_front_page', \n",
    "                         'numwords_in_url',\n",
    "                         'alchemy_category', \n",
    "                        )\n",
    "train_pipeline.dtypes"
   ]
  },
  {
   "cell_type": "code",
   "execution_count": 47,
   "metadata": {
    "collapsed": false
   },
   "outputs": [
    {
     "data": {
      "text/plain": [
       "['alchemy_category_score',\n",
       " 'avglinksize',\n",
       " 'commonlinkratio_1',\n",
       " 'commonlinkratio_2',\n",
       " 'commonlinkratio_3',\n",
       " 'commonlinkratio_4',\n",
       " 'compression_ratio',\n",
       " 'embed_ratio',\n",
       " 'frameTagRatio',\n",
       " 'html_ratio',\n",
       " 'image_ratio',\n",
       " 'linkwordscore',\n",
       " 'non_markup_alphanum_characters',\n",
       " 'numberOfLinks',\n",
       " 'parametrizedLinkRatio',\n",
       " 'spelling_errors_ratio',\n",
       " 'label',\n",
       " 'framebased',\n",
       " 'hasDomainLink',\n",
       " 'is_news',\n",
       " 'lengthyLinkDomain',\n",
       " 'news_front_page',\n",
       " 'numwords_in_url',\n",
       " 'alchemy_category',\n",
       " 'alchemy_category_indexer',\n",
       " 'framebased_indexer',\n",
       " 'hasDomainLink_indexer',\n",
       " 'is_news_indexer',\n",
       " 'lengthyLinkDomain_indexer',\n",
       " 'news_front_page_indexer',\n",
       " 'numwords_in_url_indexer',\n",
       " 'alchemy_category_onehoted',\n",
       " 'framebased_onehoted',\n",
       " 'hasDomainLink_onehoted',\n",
       " 'is_news_onehoted',\n",
       " 'lengthyLinkDomain_onehoted',\n",
       " 'news_front_page_onehoted',\n",
       " 'numwords_in_url_onehoted',\n",
       " 'features']"
      ]
     },
     "execution_count": 47,
     "metadata": {},
     "output_type": "execute_result"
    }
   ],
   "source": [
    "train_data.columns"
   ]
  },
  {
   "cell_type": "code",
   "execution_count": 72,
   "metadata": {
    "collapsed": true
   },
   "outputs": [],
   "source": [
    "\n",
    "cat_indexer = [StringIndexer(inputCol=feature_name, \n",
    "                             outputCol=feature_name+'_indexer') \n",
    "               for feature_name in cat_list]\n",
    "\n",
    "onehot_encoder = [OneHotEncoder(dropLast=False, \n",
    "                               inputCol=feature_name+'_indexer', \n",
    "                               outputCol=feature_name+'_onehoted')\n",
    "                  for feature_name in cat_list]\n",
    "\n",
    "assembler_input = ['alchemy_category_score',\n",
    "                     'avglinksize',\n",
    "                     'commonlinkratio_1',\n",
    "                     'commonlinkratio_2',\n",
    "                     'commonlinkratio_3',\n",
    "                     'commonlinkratio_4',\n",
    "                     'compression_ratio',\n",
    "                     'embed_ratio',\n",
    "                     'frameTagRatio',\n",
    "                     'html_ratio',\n",
    "                     'image_ratio',\n",
    "                     'linkwordscore',\n",
    "                     'non_markup_alphanum_characters',\n",
    "                     'numberOfLinks',\n",
    "                     'parametrizedLinkRatio',\n",
    "                     'spelling_errors_ratio',\n",
    "                     'alchemy_category_onehoted',\n",
    "                     'framebased_onehoted',\n",
    "                     'hasDomainLink_onehoted',\n",
    "                     'is_news_onehoted',\n",
    "                     'lengthyLinkDomain_onehoted',\n",
    "                     'news_front_page_onehoted',\n",
    "                     'numwords_in_url_onehoted',]\n",
    "\n",
    "assembler = VectorAssembler(inputCols=assembler_input, \n",
    "                            outputCol='features')\n",
    "\n",
    "model = DecisionTreeClassifier(featuresCol='features', \n",
    "                               labelCol='label')\n",
    "\n",
    "params  = ParamGridBuilder().addGrid(model.impurity,['gini', 'entropy']\n",
    "                           ).addGrid(model.maxDepth,[5,10,15]\n",
    "                           ).addGrid(model.maxBins,[10,15,20]\n",
    "                           ).build()\n",
    "\n",
    "evaluator = BinaryClassificationEvaluator(rawPredictionCol='prediction', \n",
    "                                          labelCol='label', \n",
    "                                          metricName='areaUnderROC')\n",
    "\n",
    "cv_model = CrossValidator(estimator=model, \n",
    "                          evaluator=evaluator, \n",
    "                          estimatorParamMaps=params, \n",
    "                          numFolds=3)\n",
    "\n",
    "pipeline = Pipeline(stages=cat_indexer+onehot_encoder+[assembler, model])"
   ]
  },
  {
   "cell_type": "code",
   "execution_count": 49,
   "metadata": {
    "collapsed": false
   },
   "outputs": [
    {
     "data": {
      "text/plain": [
       "[StringIndexer_47afb9db2a38d9fb0411,\n",
       " StringIndexer_42e0a7d600851f95fcaa,\n",
       " StringIndexer_4935aacdaf3cc25d4b3d,\n",
       " StringIndexer_4d72907ee498c23117b9,\n",
       " StringIndexer_473bb12f146314424d1e,\n",
       " StringIndexer_47a1b5b72d449a03b022,\n",
       " StringIndexer_410685c7763ac0ef1491,\n",
       " OneHotEncoder_46de8863b9716f5c6a1b,\n",
       " OneHotEncoder_4c3b8642b7d5d8d0d936,\n",
       " OneHotEncoder_4acd9df04387f20c9675,\n",
       " OneHotEncoder_4400be3697a580ee3a64,\n",
       " OneHotEncoder_44589190463b90db54d6,\n",
       " OneHotEncoder_4ba38c700821b10f6e61,\n",
       " OneHotEncoder_4cdfb056d1755259fa31,\n",
       " VectorAssembler_42bdaef75198880a36ab,\n",
       " DecisionTreeClassifier_412ca9e5353da200413e]"
      ]
     },
     "execution_count": 49,
     "metadata": {},
     "output_type": "execute_result"
    }
   ],
   "source": [
    "pipeline.getStages()"
   ]
  },
  {
   "cell_type": "code",
   "execution_count": 50,
   "metadata": {
    "collapsed": false
   },
   "outputs": [],
   "source": [
    "pipeline_model = pipeline.fit(train_pipeline)"
   ]
  },
  {
   "cell_type": "code",
   "execution_count": 51,
   "metadata": {
    "collapsed": false
   },
   "outputs": [
    {
     "data": {
      "text/plain": [
       "[StringIndexer_47afb9db2a38d9fb0411,\n",
       " StringIndexer_42e0a7d600851f95fcaa,\n",
       " StringIndexer_4935aacdaf3cc25d4b3d,\n",
       " StringIndexer_4d72907ee498c23117b9,\n",
       " StringIndexer_473bb12f146314424d1e,\n",
       " StringIndexer_47a1b5b72d449a03b022,\n",
       " StringIndexer_410685c7763ac0ef1491,\n",
       " OneHotEncoder_46de8863b9716f5c6a1b,\n",
       " OneHotEncoder_4c3b8642b7d5d8d0d936,\n",
       " OneHotEncoder_4acd9df04387f20c9675,\n",
       " OneHotEncoder_4400be3697a580ee3a64,\n",
       " OneHotEncoder_44589190463b90db54d6,\n",
       " OneHotEncoder_4ba38c700821b10f6e61,\n",
       " OneHotEncoder_4cdfb056d1755259fa31,\n",
       " VectorAssembler_42bdaef75198880a36ab,\n",
       " DecisionTreeClassificationModel (uid=DecisionTreeClassifier_412ca9e5353da200413e) of depth 5 with 61 nodes]"
      ]
     },
     "execution_count": 51,
     "metadata": {},
     "output_type": "execute_result"
    }
   ],
   "source": [
    "pipeline_model.stages"
   ]
  },
  {
   "cell_type": "code",
   "execution_count": 55,
   "metadata": {
    "collapsed": false
   },
   "outputs": [
    {
     "name": "stdout",
     "output_type": "stream",
     "text": [
      "DecisionTreeClassificationModel (uid=DecisionTreeClassifier_412ca9e5353da200413e) of depth 5 with 61 nodes\n",
      "  If (feature 12 <= 1577.5)\n",
      "   If (feature 18 in {1.0})\n",
      "    If (feature 10 <= 0.33354088800000004)\n",
      "     If (feature 9 <= 0.16549340899999998)\n",
      "      If (feature 0 <= 0.5939270000000001)\n",
      "       Predict: 1.0\n",
      "      Else (feature 0 > 0.5939270000000001)\n",
      "       Predict: 0.0\n",
      "     Else (feature 9 > 0.16549340899999998)\n",
      "      If (feature 15 <= 0.12702797500000002)\n",
      "       Predict: 0.0\n",
      "      Else (feature 15 > 0.12702797500000002)\n",
      "       Predict: 0.0\n",
      "    Else (feature 10 > 0.33354088800000004)\n",
      "     If (feature 9 <= 0.3400148705)\n",
      "      If (feature 3 <= 0.042781972)\n",
      "       Predict: 0.0\n",
      "      Else (feature 3 > 0.042781972)\n",
      "       Predict: 0.0\n",
      "     Else (feature 9 > 0.3400148705)\n",
      "      Predict: 1.0\n",
      "   Else (feature 18 not in {1.0})\n",
      "    If (feature 20 in {1.0})\n",
      "     If (feature 6 <= 0.641901116)\n",
      "      If (feature 15 <= 0.056647563)\n",
      "       Predict: 0.0\n",
      "      Else (feature 15 > 0.056647563)\n",
      "       Predict: 1.0\n",
      "     Else (feature 6 > 0.641901116)\n",
      "      If (feature 8 <= 0.0777368205)\n",
      "       Predict: 1.0\n",
      "      Else (feature 8 > 0.0777368205)\n",
      "       Predict: 0.0\n",
      "    Else (feature 20 not in {1.0})\n",
      "     If (feature 12 <= 1126.5)\n",
      "      If (feature 8 <= 0.038782658)\n",
      "       Predict: 0.0\n",
      "      Else (feature 8 > 0.038782658)\n",
      "       Predict: 0.0\n",
      "     Else (feature 12 > 1126.5)\n",
      "      If (feature 17 in {1.0})\n",
      "       Predict: 1.0\n",
      "      Else (feature 17 not in {1.0})\n",
      "       Predict: 0.0\n",
      "  Else (feature 12 > 1577.5)\n",
      "   If (feature 21 in {1.0})\n",
      "    If (feature 10 <= 0.017211755000000002)\n",
      "     If (feature 6 <= 0.45908849399999996)\n",
      "      If (feature 13 <= 138.5)\n",
      "       Predict: 1.0\n",
      "      Else (feature 13 > 138.5)\n",
      "       Predict: 0.0\n",
      "     Else (feature 6 > 0.45908849399999996)\n",
      "      If (feature 3 <= 0.2723395765)\n",
      "       Predict: 0.0\n",
      "      Else (feature 3 > 0.2723395765)\n",
      "       Predict: 0.0\n",
      "    Else (feature 10 > 0.017211755000000002)\n",
      "     If (feature 11 <= 19.5)\n",
      "      If (feature 4 <= 0.15498416850000002)\n",
      "       Predict: 0.0\n",
      "      Else (feature 4 > 0.15498416850000002)\n",
      "       Predict: 1.0\n",
      "     Else (feature 11 > 19.5)\n",
      "      If (feature 15 <= 0.2504152825)\n",
      "       Predict: 0.0\n",
      "      Else (feature 15 > 0.2504152825)\n",
      "       Predict: 0.0\n",
      "   Else (feature 21 not in {1.0})\n",
      "    If (feature 17 in {1.0})\n",
      "     If (feature 15 <= 0.10528175549999999)\n",
      "      If (feature 8 <= 0.0345783005)\n",
      "       Predict: 1.0\n",
      "      Else (feature 8 > 0.0345783005)\n",
      "       Predict: 1.0\n",
      "     Else (feature 15 > 0.10528175549999999)\n",
      "      If (feature 6 <= 0.448505027)\n",
      "       Predict: 0.0\n",
      "      Else (feature 6 > 0.448505027)\n",
      "       Predict: 1.0\n",
      "    Else (feature 17 not in {1.0})\n",
      "     If (feature 19 in {1.0})\n",
      "      If (feature 15 <= 0.121657372)\n",
      "       Predict: 1.0\n",
      "      Else (feature 15 > 0.121657372)\n",
      "       Predict: 1.0\n",
      "     Else (feature 19 not in {1.0})\n",
      "      If (feature 11 <= 25.5)\n",
      "       Predict: 1.0\n",
      "      Else (feature 11 > 25.5)\n",
      "       Predict: 0.0\n",
      "\n"
     ]
    }
   ],
   "source": [
    "print(pipeline_model.stages[-1].toDebugString)"
   ]
  },
  {
   "cell_type": "code",
   "execution_count": 56,
   "metadata": {
    "collapsed": false
   },
   "outputs": [],
   "source": [
    "predict = pipeline_model.transform(train_pipeline)"
   ]
  },
  {
   "cell_type": "code",
   "execution_count": 57,
   "metadata": {
    "collapsed": false
   },
   "outputs": [
    {
     "data": {
      "text/plain": [
       "['alchemy_category_score',\n",
       " 'avglinksize',\n",
       " 'commonlinkratio_1',\n",
       " 'commonlinkratio_2',\n",
       " 'commonlinkratio_3',\n",
       " 'commonlinkratio_4',\n",
       " 'compression_ratio',\n",
       " 'embed_ratio',\n",
       " 'frameTagRatio',\n",
       " 'html_ratio',\n",
       " 'image_ratio',\n",
       " 'linkwordscore',\n",
       " 'non_markup_alphanum_characters',\n",
       " 'numberOfLinks',\n",
       " 'parametrizedLinkRatio',\n",
       " 'spelling_errors_ratio',\n",
       " 'label',\n",
       " 'framebased',\n",
       " 'hasDomainLink',\n",
       " 'is_news',\n",
       " 'lengthyLinkDomain',\n",
       " 'news_front_page',\n",
       " 'numwords_in_url',\n",
       " 'alchemy_category',\n",
       " 'alchemy_category_indexer',\n",
       " 'framebased_indexer',\n",
       " 'hasDomainLink_indexer',\n",
       " 'is_news_indexer',\n",
       " 'lengthyLinkDomain_indexer',\n",
       " 'news_front_page_indexer',\n",
       " 'numwords_in_url_indexer',\n",
       " 'alchemy_category_onehoted',\n",
       " 'framebased_onehoted',\n",
       " 'hasDomainLink_onehoted',\n",
       " 'is_news_onehoted',\n",
       " 'lengthyLinkDomain_onehoted',\n",
       " 'news_front_page_onehoted',\n",
       " 'numwords_in_url_onehoted',\n",
       " 'features',\n",
       " 'rawPrediction',\n",
       " 'probability',\n",
       " 'prediction']"
      ]
     },
     "execution_count": 57,
     "metadata": {},
     "output_type": "execute_result"
    }
   ],
   "source": [
    "predict.columns"
   ]
  },
  {
   "cell_type": "code",
   "execution_count": 58,
   "metadata": {
    "collapsed": false
   },
   "outputs": [
    {
     "data": {
      "text/plain": [
       "[Row(alchemy_category_score=0.789131, avglinksize=2.055555556, commonlinkratio_1=0.676470588, commonlinkratio_2=0.205882353, commonlinkratio_3=0.047058824, commonlinkratio_4=0.023529412, compression_ratio=0.443783175, embed_ratio=0.0, frameTagRatio=0.09077381, html_ratio=0.245831182, image_ratio=0.003883495, linkwordscore=24.0, non_markup_alphanum_characters=5424.0, numberOfLinks=170.0, parametrizedLinkRatio=0.152941176, spelling_errors_ratio=0.079129575, label=0.0, framebased='0', hasDomainLink='0', is_news='1', lengthyLinkDomain='1', news_front_page='0', numwords_in_url='8', alchemy_category='business', alchemy_category_indexer=3.0, framebased_indexer=0.0, hasDomainLink_indexer=0.0, is_news_indexer=0.0, lengthyLinkDomain_indexer=0.0, news_front_page_indexer=0.0, numwords_in_url_indexer=7.0, alchemy_category_onehoted=SparseVector(14, {3: 1.0}), framebased_onehoted=SparseVector(1, {0: 1.0}), hasDomainLink_onehoted=SparseVector(2, {0: 1.0}), is_news_onehoted=SparseVector(2, {0: 1.0}), lengthyLinkDomain_onehoted=SparseVector(2, {0: 1.0}), news_front_page_onehoted=SparseVector(2, {0: 1.0}), numwords_in_url_onehoted=SparseVector(23, {7: 1.0}), features=SparseVector(62, {0: 0.7891, 1: 2.0556, 2: 0.6765, 3: 0.2059, 4: 0.0471, 5: 0.0235, 6: 0.4438, 8: 0.0908, 9: 0.2458, 10: 0.0039, 11: 24.0, 12: 5424.0, 13: 170.0, 14: 0.1529, 15: 0.0791, 19: 1.0, 30: 1.0, 31: 1.0, 33: 1.0, 35: 1.0, 37: 1.0, 46: 1.0}), rawPrediction=DenseVector([130.0, 527.0]), probability=DenseVector([0.1979, 0.8021]), prediction=1.0)]"
      ]
     },
     "execution_count": 58,
     "metadata": {},
     "output_type": "execute_result"
    }
   ],
   "source": [
    "predict.take(1)"
   ]
  },
  {
   "cell_type": "code",
   "execution_count": 61,
   "metadata": {
    "collapsed": false
   },
   "outputs": [
    {
     "name": "stdout",
     "output_type": "stream",
     "text": [
      "+--------------+--------------------+----------+\n",
      "| rawPrediction|         probability|prediction|\n",
      "+--------------+--------------------+----------+\n",
      "| [130.0,527.0]|[0.19786910197869...|       1.0|\n",
      "|  [52.0,113.0]|[0.31515151515151...|       1.0|\n",
      "| [843.0,596.0]|[0.58582348853370...|       0.0|\n",
      "|[924.0,1268.0]|[0.42153284671532...|       1.0|\n",
      "|   [78.0,18.0]|     [0.8125,0.1875]|       0.0|\n",
      "+--------------+--------------------+----------+\n",
      "only showing top 5 rows\n",
      "\n"
     ]
    }
   ],
   "source": [
    "predict.select('rawPrediction', 'probability', 'prediction').show(5)"
   ]
  },
  {
   "cell_type": "code",
   "execution_count": 69,
   "metadata": {
    "collapsed": false
   },
   "outputs": [
    {
     "data": {
      "text/plain": [
       "0.7201943828208925"
      ]
     },
     "execution_count": 69,
     "metadata": {},
     "output_type": "execute_result"
    }
   ],
   "source": [
    "prediction = evaluator.evaluate(predict)\n",
    "prediction"
   ]
  },
  {
   "cell_type": "code",
   "execution_count": 74,
   "metadata": {
    "collapsed": true
   },
   "outputs": [],
   "source": [
    "cv_pipeline =  Pipeline(stages=cat_indexer+onehot_encoder+[assembler, cv_model])"
   ]
  },
  {
   "cell_type": "code",
   "execution_count": 75,
   "metadata": {
    "collapsed": true
   },
   "outputs": [],
   "source": [
    "cv_pipeline_model = cv_pipeline.fit(train_pipeline)"
   ]
  },
  {
   "cell_type": "code",
   "execution_count": 77,
   "metadata": {
    "collapsed": false
   },
   "outputs": [
    {
     "data": {
      "text/plain": [
       "DecisionTreeClassificationModel (uid=DecisionTreeClassifier_405784546966dd071e43) of depth 5 with 61 nodes"
      ]
     },
     "execution_count": 77,
     "metadata": {},
     "output_type": "execute_result"
    }
   ],
   "source": [
    "cv_pipeline_model.stages[-1].bestModel"
   ]
  },
  {
   "cell_type": "code",
   "execution_count": 78,
   "metadata": {
    "collapsed": false
   },
   "outputs": [
    {
     "data": {
      "text/plain": [
       "0.6657755081246957"
      ]
     },
     "execution_count": 78,
     "metadata": {},
     "output_type": "execute_result"
    }
   ],
   "source": [
    "cv_predict = cv_pipeline_model.transform(train_pipeline)\n",
    "cv_auc = evaluator.evaluate(cv_predict)\n",
    "cv_auc"
   ]
  },
  {
   "cell_type": "code",
   "execution_count": null,
   "metadata": {
    "collapsed": true
   },
   "outputs": [],
   "source": []
  }
 ],
 "metadata": {
  "anaconda-cloud": {},
  "kernelspec": {
   "display_name": "Python [default]",
   "language": "python",
   "name": "python3"
  },
  "language_info": {
   "codemirror_mode": {
    "name": "ipython",
    "version": 3
   },
   "file_extension": ".py",
   "mimetype": "text/x-python",
   "name": "python",
   "nbconvert_exporter": "python",
   "pygments_lexer": "ipython3",
   "version": "3.5.2"
  },
  "toc": {
   "nav_menu": {},
   "number_sections": true,
   "sideBar": true,
   "skip_h1_title": false,
   "title_cell": "Table of Contents",
   "title_sidebar": "Contents",
   "toc_cell": false,
   "toc_position": {},
   "toc_section_display": true,
   "toc_window_display": false
  }
 },
 "nbformat": 4,
 "nbformat_minor": 2
}

{
 "cells": [
  {
   "cell_type": "code",
   "execution_count": 2,
   "metadata": {
    "ExecuteTime": {
     "end_time": "2018-08-17T00:55:53.808389Z",
     "start_time": "2018-08-17T00:55:53.604783Z"
    },
    "collapsed": true
   },
   "outputs": [],
   "source": [
    "# -*- coding: UTF-8 -*-\n",
    "import sys\n",
    "from pyspark import SparkConf, SparkContext\n",
    "from pyspark.mllib.recommendation import  MatrixFactorizationModel\n",
    "from pyspark.mllib.recommendation import ALS"
   ]
  },
  {
   "cell_type": "markdown",
   "metadata": {},
   "source": [
    "# 初始化"
   ]
  },
  {
   "cell_type": "markdown",
   "metadata": {},
   "source": [
    "sparkContext的初始化只需要一个sparkConf，sparkConf的实质是一个`键值对`.   \n",
    "AppName = \"Recommend_Test\"   \n",
    "Master = 'local[2]'   \n",
    "'spark.driver.memory' = '8G'   "
   ]
  },
  {
   "cell_type": "code",
   "execution_count": 3,
   "metadata": {
    "collapsed": false
   },
   "outputs": [
    {
     "data": {
      "text/plain": [
       "'local[2]'"
      ]
     },
     "execution_count": 3,
     "metadata": {},
     "output_type": "execute_result"
    }
   ],
   "source": [
    "sparkConf = SparkConf().setAppName(\"Recommend_Test\"\n",
    "                    ).setMaster('local[2]'\n",
    "                    ).set('spark.driver.memory', '8G')\n",
    "sc = SparkContext(conf = sparkConf)\n",
    "sc.master"
   ]
  },
  {
   "cell_type": "markdown",
   "metadata": {},
   "source": [
    "# 日志记录"
   ]
  },
  {
   "cell_type": "markdown",
   "metadata": {},
   "source": [
    "**level** 是日志记录的优先级，分为 `OFF、 FATAL、 ERROR、 WARN、 INFO、 DEBUG、 ALL`或者您定义的级别。    \n",
    "**Log4j** 建议只使用四个级别 ，优先级从高到低分别是 `ERROR 、 WARN、 INFO、 DEBUG`。   \n",
    "通过在这里定义的级别，您可以控制到应用程序中相应级别的日志信息的开关。   \n",
    "比如在这里定义了 INFO 级别，则应用程序中所有 DEBUG 级别的日志信息将不被打印出来。    \n",
    "appenderName就是指 B 日志信息输出到哪个地方。您可以同时指定多个输出目的地。"
   ]
  },
  {
   "cell_type": "markdown",
   "metadata": {},
   "source": [
    "参考链接[org.apache.log4j.Logger详解](https://blog.csdn.net/anlina_1984/article/details/5313023)"
   ]
  },
  {
   "cell_type": "code",
   "execution_count": 5,
   "metadata": {
    "collapsed": true
   },
   "outputs": [],
   "source": [
    "logger = sc._jvm.org.apache.log4j\n",
    "logger.LogManager.getLogger(\"org\"). setLevel( logger.Level.ERROR )\n",
    "logger.LogManager.getLogger(\"akka\").setLevel( logger.Level.ERROR )\n",
    "logger.LogManager.getRootLogger().setLevel(logger.Level.ERROR)"
   ]
  },
  {
   "cell_type": "markdown",
   "metadata": {},
   "source": [
    "# 读取文件 "
   ]
  },
  {
   "cell_type": "markdown",
   "metadata": {},
   "source": [
    "本地读取文件:   \n",
    "> textFile = sc.textFile(\"file:///usr/local/spark/mycode/wordcount/writeback.txt\")\n",
    "\n",
    "读取hdfs中文件:   \n",
    "> textFile = sc.textFile(\"hdfs://localhost:9000/user/hadoop/word.txt\")   \n",
    "> textFile = sc.textFile(\"/user/hadoop/word.txt\")   \n",
    "> textFile = sc.textFile(\"word.txt\")\n"
   ]
  },
  {
   "cell_type": "code",
   "execution_count": 8,
   "metadata": {
    "collapsed": false
   },
   "outputs": [
    {
     "data": {
      "text/plain": [
       "file:///mnt/f/AI/Book/other/spark_tmp/PythonProject/data/u.data MapPartitionsRDD[6] at textFile at NativeMethodAccessorImpl.java:0"
      ]
     },
     "execution_count": 8,
     "metadata": {},
     "output_type": "execute_result"
    }
   ],
   "source": [
    "path = 'file:///mnt/f/AI/Book/other/spark_tmp/PythonProject/data/'\n",
    "data = sc.textFile(path+'u.data')\n",
    "data.cache()"
   ]
  },
  {
   "cell_type": "markdown",
   "metadata": {},
   "source": [
    "user id \\t movie id \\t rating \\t time"
   ]
  },
  {
   "cell_type": "code",
   "execution_count": 9,
   "metadata": {
    "collapsed": false
   },
   "outputs": [
    {
     "data": {
      "text/plain": [
       "100000"
      ]
     },
     "execution_count": 9,
     "metadata": {},
     "output_type": "execute_result"
    }
   ],
   "source": [
    "# 数据条数\n",
    "data.count()"
   ]
  },
  {
   "cell_type": "code",
   "execution_count": 10,
   "metadata": {
    "collapsed": false
   },
   "outputs": [
    {
     "data": {
      "text/plain": [
       "[['196', '242', '3'],\n",
       " ['186', '302', '3'],\n",
       " ['22', '377', '1'],\n",
       " ['244', '51', '2'],\n",
       " ['166', '346', '1']]"
      ]
     },
     "execution_count": 10,
     "metadata": {},
     "output_type": "execute_result"
    }
   ],
   "source": [
    "# 设定分隔符\n",
    "data_ratings = data.map(lambda line:line.split('\\t')[:3])\n",
    "# 查看前5项\n",
    "data_ratings.take(5)"
   ]
  },
  {
   "cell_type": "code",
   "execution_count": 13,
   "metadata": {
    "collapsed": false
   },
   "outputs": [
    {
     "data": {
      "text/plain": [
       "943"
      ]
     },
     "execution_count": 13,
     "metadata": {},
     "output_type": "execute_result"
    }
   ],
   "source": [
    "# 查看所有的user数目\n",
    "data_users = data_ratings.map(lambda x:x[0])\n",
    "data_users.distinct().count()"
   ]
  },
  {
   "cell_type": "code",
   "execution_count": 14,
   "metadata": {
    "collapsed": false
   },
   "outputs": [
    {
     "data": {
      "text/plain": [
       "1682"
      ]
     },
     "execution_count": 14,
     "metadata": {},
     "output_type": "execute_result"
    }
   ],
   "source": [
    "# 查看所有的movie数目\n",
    "data_movies = data_ratings.map(lambda x:x[1])\n",
    "data_movies.distinct().count()"
   ]
  },
  {
   "cell_type": "code",
   "execution_count": 19,
   "metadata": {
    "collapsed": false
   },
   "outputs": [
    {
     "data": {
      "text/plain": [
       "{'1', '2', '3', '4', '5'}"
      ]
     },
     "execution_count": 19,
     "metadata": {},
     "output_type": "execute_result"
    }
   ],
   "source": [
    "# 查看所有的打分级别\n",
    "data_rating = data_ratings.map(lambda x:x[2])\n",
    "set(data_rating.collect())"
   ]
  },
  {
   "cell_type": "code",
   "execution_count": 15,
   "metadata": {
    "collapsed": false
   },
   "outputs": [
    {
     "data": {
      "text/plain": [
       "<pyspark.mllib.recommendation.MatrixFactorizationModel at 0x7fa16c575b00>"
      ]
     },
     "execution_count": 15,
     "metadata": {},
     "output_type": "execute_result"
    }
   ],
   "source": [
    "# 生成模型, 并训练\n",
    "model = ALS.train(data_ratings, 10, 10, 0.1)\n",
    "model"
   ]
  },
  {
   "cell_type": "code",
   "execution_count": 16,
   "metadata": {
    "collapsed": false
   },
   "outputs": [
    {
     "data": {
      "text/plain": [
       "[Rating(user=100, product=316, rating=4.198600574309651),\n",
       " Rating(user=100, product=1192, rating=4.139422215166272),\n",
       " Rating(user=100, product=313, rating=4.11902819052346),\n",
       " Rating(user=100, product=1449, rating=4.074026850819229),\n",
       " Rating(user=100, product=315, rating=4.050482099792885),\n",
       " Rating(user=100, product=64, rating=4.033476621491211),\n",
       " Rating(user=100, product=318, rating=4.027254031922888),\n",
       " Rating(user=100, product=22, rating=4.006394939883782),\n",
       " Rating(user=100, product=272, rating=3.993697155368104),\n",
       " Rating(user=100, product=1431, rating=3.9718886340621977)]"
      ]
     },
     "execution_count": 16,
     "metadata": {},
     "output_type": "execute_result"
    }
   ],
   "source": [
    "# 输入user_id=100, 召回最高的评分的电影, 选出前10个 \n",
    "model.recommendProducts(100, 10)"
   ]
  },
  {
   "cell_type": "code",
   "execution_count": 17,
   "metadata": {
    "collapsed": false
   },
   "outputs": [
    {
     "data": {
      "text/plain": [
       "[Rating(user=34, product=100, rating=5.38160763686137),\n",
       " Rating(user=173, product=100, rating=5.2110349791033315),\n",
       " Rating(user=928, product=100, rating=5.176931436413363),\n",
       " Rating(user=4, product=100, rating=5.091305021106637),\n",
       " Rating(user=252, product=100, rating=4.997433439107866),\n",
       " Rating(user=808, product=100, rating=4.986576493925978),\n",
       " Rating(user=628, product=100, rating=4.986243673168811),\n",
       " Rating(user=810, product=100, rating=4.928138455669418),\n",
       " Rating(user=686, product=100, rating=4.915622934709694),\n",
       " Rating(user=819, product=100, rating=4.911784602788444)]"
      ]
     },
     "execution_count": 17,
     "metadata": {},
     "output_type": "execute_result"
    }
   ],
   "source": [
    "# 输入movie_id=100, 召回最高的评分的用户, 选出前10个 \n",
    "model.recommendUsers(100, 10)"
   ]
  },
  {
   "cell_type": "code",
   "execution_count": 20,
   "metadata": {
    "collapsed": false,
    "scrolled": true
   },
   "outputs": [
    {
     "data": {
      "text/plain": [
       "4.11902819052346"
      ]
     },
     "execution_count": 20,
     "metadata": {},
     "output_type": "execute_result"
    }
   ],
   "source": [
    "# 输入user_id, movie_id, 预测打分\n",
    "model.predict(100, 313)"
   ]
  },
  {
   "cell_type": "code",
   "execution_count": 21,
   "metadata": {
    "collapsed": false
   },
   "outputs": [
    {
     "data": {
      "text/plain": [
       "file:///mnt/f/AI/Book/other/spark_tmp/PythonProject/data/u.item MapPartitionsRDD[241] at textFile at NativeMethodAccessorImpl.java:0"
      ]
     },
     "execution_count": 21,
     "metadata": {},
     "output_type": "execute_result"
    }
   ],
   "source": [
    "# 读入item文件\n",
    "item = sc.textFile(path+'u.item')\n",
    "# 缓存到内存中\n",
    "item.cache()"
   ]
  },
  {
   "cell_type": "code",
   "execution_count": 22,
   "metadata": {
    "collapsed": false
   },
   "outputs": [
    {
     "data": {
      "text/plain": [
       "'1|Toy Story (1995)|01-Jan-1995||http://us.imdb.com/M/title-exact?Toy%20Story%20(1995)|0|0|0|1|1|1|0|0|0|0|0|0|0|0|0|0|0|0|0'"
      ]
     },
     "execution_count": 22,
     "metadata": {},
     "output_type": "execute_result"
    }
   ],
   "source": [
    "# 查看首列\n",
    "item.first()"
   ]
  },
  {
   "cell_type": "code",
   "execution_count": 27,
   "metadata": {
    "collapsed": false
   },
   "outputs": [
    {
     "data": {
      "text/plain": [
       "'Copycat (1995)'"
      ]
     },
     "execution_count": 27,
     "metadata": {},
     "output_type": "execute_result"
    }
   ],
   "source": [
    "# 生成 ( movie_id, movie_name )键值对\n",
    "movie_id = item.map(lambda x:x.split('|')[:2]\n",
    "                   ).map(lambda x:(int(x[0]), x[1])\n",
    "                        ).collectAsMap()\n",
    "movie_id[5]"
   ]
  },
  {
   "cell_type": "code",
   "execution_count": 36,
   "metadata": {
    "collapsed": false
   },
   "outputs": [
    {
     "name": "stdout",
     "output_type": "stream",
     "text": [
      "<class 'pyspark.mllib.recommendation.Rating'>\n",
      "针对电影 id:100\t 电影名:Fargo (1996)\t 推荐下列用户id:\n",
      "针对用户id:34\t 推荐电影:Fargo (1996)\t 推荐评分:5.38160763686137\n",
      "针对用户id:173\t 推荐电影:Fargo (1996)\t 推荐评分:5.2110349791033315\n",
      "针对用户id:928\t 推荐电影:Fargo (1996)\t 推荐评分:5.176931436413363\n",
      "针对用户id:4\t 推荐电影:Fargo (1996)\t 推荐评分:5.091305021106637\n",
      "针对用户id:252\t 推荐电影:Fargo (1996)\t 推荐评分:4.997433439107866\n",
      "针对用户id:808\t 推荐电影:Fargo (1996)\t 推荐评分:4.986576493925978\n",
      "针对用户id:628\t 推荐电影:Fargo (1996)\t 推荐评分:4.986243673168811\n",
      "针对用户id:810\t 推荐电影:Fargo (1996)\t 推荐评分:4.928138455669418\n",
      "针对用户id:686\t 推荐电影:Fargo (1996)\t 推荐评分:4.915622934709694\n",
      "针对用户id:819\t 推荐电影:Fargo (1996)\t 推荐评分:4.911784602788444\n"
     ]
    }
   ],
   "source": [
    "# 针对inputMovieID, 召回最高的评分的用户, 选出前10个 \n",
    "inputMovieID = 100\n",
    "item_list = model.recommendUsers(100, 10)\n",
    "print(type(item_list[0]))\n",
    "print(\"针对电影 id:{0}\\t 电影名:{1}\\t 推荐下列用户id:\".format( \n",
    "        inputMovieID,movie_id[inputMovieID]))\n",
    "for rmd in item_list:\n",
    "    print(\"针对用户id:{0}\\t 推荐电影:{1}\\t 推荐评分:{2}\".format(\n",
    "            rmd[0],movie_id[rmd[1]],rmd[2]))"
   ]
  },
  {
   "cell_type": "code",
   "execution_count": 37,
   "metadata": {
    "collapsed": false
   },
   "outputs": [],
   "source": [
    "# 保存模型到本地, \n",
    "# 若有相同文件夹名, 则无法保存, 记得事先清除\n",
    "model.save(sc,path+'model66666')"
   ]
  },
  {
   "cell_type": "code",
   "execution_count": 38,
   "metadata": {
    "collapsed": true
   },
   "outputs": [],
   "source": [
    "# 导入保存好的模型\n",
    "model_s = MatrixFactorizationModel.load(sc, path+\"model66666\")"
   ]
  },
  {
   "cell_type": "code",
   "execution_count": 40,
   "metadata": {
    "collapsed": false
   },
   "outputs": [
    {
     "data": {
      "text/plain": [
       "3.1278692847762226"
      ]
     },
     "execution_count": 40,
     "metadata": {},
     "output_type": "execute_result"
    }
   ],
   "source": [
    "# 进行预测\n",
    "model_s.predict(100, 55)"
   ]
  },
  {
   "cell_type": "code",
   "execution_count": 41,
   "metadata": {
    "ExecuteTime": {
     "end_time": "2018-08-17T00:54:29.734539Z",
     "start_time": "2018-08-17T00:54:28.583206Z"
    },
    "collapsed": false
   },
   "outputs": [],
   "source": [
    "# 结束sc\n",
    "sc.stop()"
   ]
  },
  {
   "cell_type": "code",
   "execution_count": null,
   "metadata": {
    "collapsed": true
   },
   "outputs": [],
   "source": []
  }
 ],
 "metadata": {
  "anaconda-cloud": {},
  "kernelspec": {
   "display_name": "Python [default]",
   "language": "python",
   "name": "python3"
  },
  "language_info": {
   "codemirror_mode": {
    "name": "ipython",
    "version": 3
   },
   "file_extension": ".py",
   "mimetype": "text/x-python",
   "name": "python",
   "nbconvert_exporter": "python",
   "pygments_lexer": "ipython3",
   "version": "3.5.2"
  },
  "toc": {
   "nav_menu": {},
   "number_sections": true,
   "sideBar": true,
   "skip_h1_title": false,
   "title_cell": "Table of Contents",
   "title_sidebar": "Contents",
   "toc_cell": false,
   "toc_position": {},
   "toc_section_display": true,
   "toc_window_display": false
  }
 },
 "nbformat": 4,
 "nbformat_minor": 2
}
